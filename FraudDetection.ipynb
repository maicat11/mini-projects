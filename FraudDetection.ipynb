{
 "cells": [
  {
   "cell_type": "markdown",
   "metadata": {},
   "source": [
    "# Fraud Detection\n",
    "\n",
    "Tinkering with various classification models for learning purposes"
   ]
  },
  {
   "cell_type": "code",
   "execution_count": 1,
   "metadata": {},
   "outputs": [],
   "source": [
    "import pandas as pd\n",
    "import pandas_profiling \n",
    "import warnings\n",
    "import matplotlib.pyplot as plt\n",
    "import seaborn as sns\n",
    "\n",
    "%matplotlib inline\n",
    "warnings.filterwarnings('ignore')"
   ]
  },
  {
   "cell_type": "code",
   "execution_count": 2,
   "metadata": {},
   "outputs": [],
   "source": [
    "def print_confusion_matrix(confusion_matrix, class_names, figsize=(8, 5), fontsize=18):\n",
    "    df_cm = pd.DataFrame(confusion_matrix, index=class_names, columns=class_names)\n",
    "    fig = plt.figure(figsize=figsize)\n",
    "    try:\n",
    "        heatmap = sns.heatmap(df_cm, annot=True, fmt=\"d\", cmap='YlGnBu')\n",
    "    except ValueError:\n",
    "        raise ValueError(\"Confusion matrix values must be integers.\")\n",
    "    heatmap.yaxis.set_ticklabels(heatmap.yaxis.get_ticklabels(), rotation=0, ha='right', fontsize=fontsize)\n",
    "    heatmap.xaxis.set_ticklabels(heatmap.xaxis.get_ticklabels(), rotation=45, ha='right', fontsize=fontsize)\n",
    "    plt.ylabel('Actual Label')\n",
    "    plt.xlabel('Predicted Label')\n",
    "#     return fig"
   ]
  },
  {
   "cell_type": "code",
   "execution_count": 3,
   "metadata": {},
   "outputs": [
    {
     "name": "stdout",
     "output_type": "stream",
     "text": [
      "(284807, 31)\n"
     ]
    },
    {
     "data": {
      "text/html": [
       "<div>\n",
       "<style scoped>\n",
       "    .dataframe tbody tr th:only-of-type {\n",
       "        vertical-align: middle;\n",
       "    }\n",
       "\n",
       "    .dataframe tbody tr th {\n",
       "        vertical-align: top;\n",
       "    }\n",
       "\n",
       "    .dataframe thead th {\n",
       "        text-align: right;\n",
       "    }\n",
       "</style>\n",
       "<table border=\"1\" class=\"dataframe\">\n",
       "  <thead>\n",
       "    <tr style=\"text-align: right;\">\n",
       "      <th></th>\n",
       "      <th>Time</th>\n",
       "      <th>V1</th>\n",
       "      <th>V2</th>\n",
       "      <th>V3</th>\n",
       "      <th>V4</th>\n",
       "      <th>V5</th>\n",
       "      <th>V6</th>\n",
       "      <th>V7</th>\n",
       "      <th>V8</th>\n",
       "      <th>V9</th>\n",
       "      <th>...</th>\n",
       "      <th>V21</th>\n",
       "      <th>V22</th>\n",
       "      <th>V23</th>\n",
       "      <th>V24</th>\n",
       "      <th>V25</th>\n",
       "      <th>V26</th>\n",
       "      <th>V27</th>\n",
       "      <th>V28</th>\n",
       "      <th>Amount</th>\n",
       "      <th>Class</th>\n",
       "    </tr>\n",
       "  </thead>\n",
       "  <tbody>\n",
       "    <tr>\n",
       "      <th>0</th>\n",
       "      <td>0.0</td>\n",
       "      <td>-1.359807</td>\n",
       "      <td>-0.072781</td>\n",
       "      <td>2.536347</td>\n",
       "      <td>1.378155</td>\n",
       "      <td>-0.338321</td>\n",
       "      <td>0.462388</td>\n",
       "      <td>0.239599</td>\n",
       "      <td>0.098698</td>\n",
       "      <td>0.363787</td>\n",
       "      <td>...</td>\n",
       "      <td>-0.018307</td>\n",
       "      <td>0.277838</td>\n",
       "      <td>-0.110474</td>\n",
       "      <td>0.066928</td>\n",
       "      <td>0.128539</td>\n",
       "      <td>-0.189115</td>\n",
       "      <td>0.133558</td>\n",
       "      <td>-0.021053</td>\n",
       "      <td>149.62</td>\n",
       "      <td>0</td>\n",
       "    </tr>\n",
       "    <tr>\n",
       "      <th>1</th>\n",
       "      <td>0.0</td>\n",
       "      <td>1.191857</td>\n",
       "      <td>0.266151</td>\n",
       "      <td>0.166480</td>\n",
       "      <td>0.448154</td>\n",
       "      <td>0.060018</td>\n",
       "      <td>-0.082361</td>\n",
       "      <td>-0.078803</td>\n",
       "      <td>0.085102</td>\n",
       "      <td>-0.255425</td>\n",
       "      <td>...</td>\n",
       "      <td>-0.225775</td>\n",
       "      <td>-0.638672</td>\n",
       "      <td>0.101288</td>\n",
       "      <td>-0.339846</td>\n",
       "      <td>0.167170</td>\n",
       "      <td>0.125895</td>\n",
       "      <td>-0.008983</td>\n",
       "      <td>0.014724</td>\n",
       "      <td>2.69</td>\n",
       "      <td>0</td>\n",
       "    </tr>\n",
       "    <tr>\n",
       "      <th>2</th>\n",
       "      <td>1.0</td>\n",
       "      <td>-1.358354</td>\n",
       "      <td>-1.340163</td>\n",
       "      <td>1.773209</td>\n",
       "      <td>0.379780</td>\n",
       "      <td>-0.503198</td>\n",
       "      <td>1.800499</td>\n",
       "      <td>0.791461</td>\n",
       "      <td>0.247676</td>\n",
       "      <td>-1.514654</td>\n",
       "      <td>...</td>\n",
       "      <td>0.247998</td>\n",
       "      <td>0.771679</td>\n",
       "      <td>0.909412</td>\n",
       "      <td>-0.689281</td>\n",
       "      <td>-0.327642</td>\n",
       "      <td>-0.139097</td>\n",
       "      <td>-0.055353</td>\n",
       "      <td>-0.059752</td>\n",
       "      <td>378.66</td>\n",
       "      <td>0</td>\n",
       "    </tr>\n",
       "    <tr>\n",
       "      <th>3</th>\n",
       "      <td>1.0</td>\n",
       "      <td>-0.966272</td>\n",
       "      <td>-0.185226</td>\n",
       "      <td>1.792993</td>\n",
       "      <td>-0.863291</td>\n",
       "      <td>-0.010309</td>\n",
       "      <td>1.247203</td>\n",
       "      <td>0.237609</td>\n",
       "      <td>0.377436</td>\n",
       "      <td>-1.387024</td>\n",
       "      <td>...</td>\n",
       "      <td>-0.108300</td>\n",
       "      <td>0.005274</td>\n",
       "      <td>-0.190321</td>\n",
       "      <td>-1.175575</td>\n",
       "      <td>0.647376</td>\n",
       "      <td>-0.221929</td>\n",
       "      <td>0.062723</td>\n",
       "      <td>0.061458</td>\n",
       "      <td>123.50</td>\n",
       "      <td>0</td>\n",
       "    </tr>\n",
       "    <tr>\n",
       "      <th>4</th>\n",
       "      <td>2.0</td>\n",
       "      <td>-1.158233</td>\n",
       "      <td>0.877737</td>\n",
       "      <td>1.548718</td>\n",
       "      <td>0.403034</td>\n",
       "      <td>-0.407193</td>\n",
       "      <td>0.095921</td>\n",
       "      <td>0.592941</td>\n",
       "      <td>-0.270533</td>\n",
       "      <td>0.817739</td>\n",
       "      <td>...</td>\n",
       "      <td>-0.009431</td>\n",
       "      <td>0.798278</td>\n",
       "      <td>-0.137458</td>\n",
       "      <td>0.141267</td>\n",
       "      <td>-0.206010</td>\n",
       "      <td>0.502292</td>\n",
       "      <td>0.219422</td>\n",
       "      <td>0.215153</td>\n",
       "      <td>69.99</td>\n",
       "      <td>0</td>\n",
       "    </tr>\n",
       "  </tbody>\n",
       "</table>\n",
       "<p>5 rows × 31 columns</p>\n",
       "</div>"
      ],
      "text/plain": [
       "   Time        V1        V2        V3        V4        V5        V6        V7  \\\n",
       "0   0.0 -1.359807 -0.072781  2.536347  1.378155 -0.338321  0.462388  0.239599   \n",
       "1   0.0  1.191857  0.266151  0.166480  0.448154  0.060018 -0.082361 -0.078803   \n",
       "2   1.0 -1.358354 -1.340163  1.773209  0.379780 -0.503198  1.800499  0.791461   \n",
       "3   1.0 -0.966272 -0.185226  1.792993 -0.863291 -0.010309  1.247203  0.237609   \n",
       "4   2.0 -1.158233  0.877737  1.548718  0.403034 -0.407193  0.095921  0.592941   \n",
       "\n",
       "         V8        V9  ...       V21       V22       V23       V24       V25  \\\n",
       "0  0.098698  0.363787  ... -0.018307  0.277838 -0.110474  0.066928  0.128539   \n",
       "1  0.085102 -0.255425  ... -0.225775 -0.638672  0.101288 -0.339846  0.167170   \n",
       "2  0.247676 -1.514654  ...  0.247998  0.771679  0.909412 -0.689281 -0.327642   \n",
       "3  0.377436 -1.387024  ... -0.108300  0.005274 -0.190321 -1.175575  0.647376   \n",
       "4 -0.270533  0.817739  ... -0.009431  0.798278 -0.137458  0.141267 -0.206010   \n",
       "\n",
       "        V26       V27       V28  Amount  Class  \n",
       "0 -0.189115  0.133558 -0.021053  149.62      0  \n",
       "1  0.125895 -0.008983  0.014724    2.69      0  \n",
       "2 -0.139097 -0.055353 -0.059752  378.66      0  \n",
       "3 -0.221929  0.062723  0.061458  123.50      0  \n",
       "4  0.502292  0.219422  0.215153   69.99      0  \n",
       "\n",
       "[5 rows x 31 columns]"
      ]
     },
     "metadata": {},
     "output_type": "display_data"
    }
   ],
   "source": [
    "cc_df = pd.read_csv(\"data/creditcard.csv\")\n",
    "\n",
    "print(cc_df.shape)\n",
    "display(cc_df.head())"
   ]
  },
  {
   "cell_type": "code",
   "execution_count": 4,
   "metadata": {
    "scrolled": true
   },
   "outputs": [],
   "source": [
    "# Get the EDA report of the dataset and use it to guide some decisions\n",
    "# pandas_profiling.ProfileReport(cc_df)"
   ]
  },
  {
   "cell_type": "markdown",
   "metadata": {},
   "source": [
    "**Some observations based on the report above**\n",
    "* There are 1080 duplicates that will need to be dropped.\n",
    "* There is no missing data.\n",
    "* Many of the V* features are left/right skewed and will need to be rescaled to smooth the distribution.\n",
    "* The *Time* and *Amount* variables have not been scaled to match the rest of the data.\n",
    "* The class or target feature is very imbalanced.\n",
    "    * Specifically 0.2% is the positive (1) class and the remaining 99.8% is the negative (0) class.\n",
    "    * Since most of the transactions are not fraud, it will be important to choose a model and metric that detects the patterns of the fraud (positive) class and maximizes the true positive rate.\n",
    "    "
   ]
  },
  {
   "cell_type": "code",
   "execution_count": 5,
   "metadata": {},
   "outputs": [
    {
     "name": "stdout",
     "output_type": "stream",
     "text": [
      "(283726, 31)\n"
     ]
    }
   ],
   "source": [
    "# drop duplicates\n",
    "cc_df.drop_duplicates(inplace=True)\n",
    "print(cc_df.shape)"
   ]
  },
  {
   "cell_type": "markdown",
   "metadata": {},
   "source": [
    "**Split the data into Train/Test sets**"
   ]
  },
  {
   "cell_type": "code",
   "execution_count": 6,
   "metadata": {},
   "outputs": [
    {
     "name": "stdout",
     "output_type": "stream",
     "text": [
      "Original \n",
      " 0    0.998333\n",
      "1    0.001667\n",
      "Name: Class, dtype: float64\n",
      "Train \n",
      " 0    0.998337\n",
      "1    0.001663\n",
      "Name: Class, dtype: float64\n",
      "Validation \n",
      " 0    0.998326\n",
      "1    0.001674\n",
      "Name: Class, dtype: float64\n",
      "Test \n",
      " 0    0.998326\n",
      "1    0.001674\n",
      "Name: Class, dtype: float64\n"
     ]
    }
   ],
   "source": [
    "from sklearn.model_selection import train_test_split, StratifiedShuffleSplit\n",
    "\n",
    "X = cc_df.drop('Class', axis=1)\n",
    "y = cc_df['Class']\n",
    "\n",
    "spliter = StratifiedShuffleSplit(n_splits=1, test_size=0.2, random_state=42)\n",
    "for train_idx, test_idx in spliter.split(X, y):    \n",
    "    train_valid_df = cc_df.iloc[train_idx]\n",
    "    test_df = cc_df.iloc[test_idx]\n",
    "\n",
    "X2 = train_valid_df.drop('Class', axis=1)\n",
    "y2 = train_valid_df['Class']\n",
    "\n",
    "for train_idx, valid_idx in spliter.split(X2, y2):\n",
    "    train_df = train_valid_df.iloc[train_idx]\n",
    "    valid_df = train_valid_df.iloc[valid_idx]    \n",
    "    \n",
    "# verify that the test split contains the same proportion of positive class values\n",
    "print('Original','\\n', cc_df['Class'].value_counts(normalize=True))\n",
    "print('Train','\\n', train_df['Class'].value_counts(normalize=True))  \n",
    "print('Validation', '\\n', valid_df['Class'].value_counts(normalize=True))\n",
    "print('Test', '\\n', test_df['Class'].value_counts(normalize=True))"
   ]
  },
  {
   "cell_type": "markdown",
   "metadata": {},
   "source": [
    "### Scaling the data"
   ]
  },
  {
   "cell_type": "code",
   "execution_count": 7,
   "metadata": {},
   "outputs": [],
   "source": [
    "# Scale features using statistics that are robust to outliers.\n",
    "# This Scaler removes the median and scales the data according to\n",
    "# the quantile range (defaults to IQR: Interquartile Range)\n",
    "from sklearn.preprocessing import RobustScaler\n",
    "\n",
    "robust_scaler = RobustScaler()\n",
    "\n",
    "train_df['scaled_time'] = robust_scaler.fit_transform(train_df['Time'].values.reshape(-1,1))\n",
    "train_df['scaled_amount'] = robust_scaler.fit_transform(train_df['Amount'].values.reshape(-1,1))\n",
    "train_df.drop(['Time', 'Amount'], axis=1, inplace=True)\n",
    "\n",
    "valid_df['scaled_time'] = robust_scaler.fit_transform(valid_df['Time'].values.reshape(-1,1))\n",
    "valid_df['scaled_amount'] = robust_scaler.fit_transform(valid_df['Amount'].values.reshape(-1,1))\n",
    "valid_df.drop(['Time', 'Amount'], axis=1, inplace=True)\n",
    "\n",
    "test_df['scaled_time'] = robust_scaler.fit_transform(test_df['Time'].values.reshape(-1,1))\n",
    "test_df['scaled_amount'] = robust_scaler.fit_transform(test_df['Amount'].values.reshape(-1,1))\n",
    "test_df.drop(['Time', 'Amount'], axis=1, inplace=True)"
   ]
  },
  {
   "cell_type": "code",
   "execution_count": 8,
   "metadata": {},
   "outputs": [
    {
     "data": {
      "text/html": [
       "<div>\n",
       "<style scoped>\n",
       "    .dataframe tbody tr th:only-of-type {\n",
       "        vertical-align: middle;\n",
       "    }\n",
       "\n",
       "    .dataframe tbody tr th {\n",
       "        vertical-align: top;\n",
       "    }\n",
       "\n",
       "    .dataframe thead th {\n",
       "        text-align: right;\n",
       "    }\n",
       "</style>\n",
       "<table border=\"1\" class=\"dataframe\">\n",
       "  <thead>\n",
       "    <tr style=\"text-align: right;\">\n",
       "      <th></th>\n",
       "      <th>V1</th>\n",
       "      <th>V2</th>\n",
       "      <th>V3</th>\n",
       "      <th>V4</th>\n",
       "      <th>V5</th>\n",
       "      <th>V6</th>\n",
       "      <th>V7</th>\n",
       "      <th>V8</th>\n",
       "      <th>V9</th>\n",
       "      <th>V10</th>\n",
       "      <th>...</th>\n",
       "      <th>V21</th>\n",
       "      <th>V22</th>\n",
       "      <th>V23</th>\n",
       "      <th>V24</th>\n",
       "      <th>V25</th>\n",
       "      <th>V26</th>\n",
       "      <th>V27</th>\n",
       "      <th>V28</th>\n",
       "      <th>scaled_time</th>\n",
       "      <th>scaled_amount</th>\n",
       "    </tr>\n",
       "  </thead>\n",
       "  <tbody>\n",
       "    <tr>\n",
       "      <th>135251</th>\n",
       "      <td>-4.668495</td>\n",
       "      <td>3.932560</td>\n",
       "      <td>-0.343116</td>\n",
       "      <td>-2.199315</td>\n",
       "      <td>-1.041493</td>\n",
       "      <td>-0.859191</td>\n",
       "      <td>0.119151</td>\n",
       "      <td>0.567686</td>\n",
       "      <td>2.825739</td>\n",
       "      <td>4.016222</td>\n",
       "      <td>...</td>\n",
       "      <td>-0.465558</td>\n",
       "      <td>-0.320141</td>\n",
       "      <td>0.194736</td>\n",
       "      <td>0.057258</td>\n",
       "      <td>0.352072</td>\n",
       "      <td>0.736281</td>\n",
       "      <td>0.991712</td>\n",
       "      <td>0.513882</td>\n",
       "      <td>-0.043533</td>\n",
       "      <td>-0.259659</td>\n",
       "    </tr>\n",
       "    <tr>\n",
       "      <th>112506</th>\n",
       "      <td>-1.193228</td>\n",
       "      <td>-0.067069</td>\n",
       "      <td>0.195100</td>\n",
       "      <td>-0.797864</td>\n",
       "      <td>-2.724207</td>\n",
       "      <td>2.082131</td>\n",
       "      <td>2.237805</td>\n",
       "      <td>0.279369</td>\n",
       "      <td>0.186022</td>\n",
       "      <td>-1.367085</td>\n",
       "      <td>...</td>\n",
       "      <td>-0.077393</td>\n",
       "      <td>-0.077975</td>\n",
       "      <td>0.425741</td>\n",
       "      <td>-0.743803</td>\n",
       "      <td>-0.710705</td>\n",
       "      <td>0.689694</td>\n",
       "      <td>0.110856</td>\n",
       "      <td>-0.047984</td>\n",
       "      <td>-0.143342</td>\n",
       "      <td>8.201080</td>\n",
       "    </tr>\n",
       "    <tr>\n",
       "      <th>129491</th>\n",
       "      <td>-2.139337</td>\n",
       "      <td>-0.477542</td>\n",
       "      <td>1.023329</td>\n",
       "      <td>0.553691</td>\n",
       "      <td>-0.760199</td>\n",
       "      <td>-0.079801</td>\n",
       "      <td>-0.250863</td>\n",
       "      <td>0.230727</td>\n",
       "      <td>-0.971462</td>\n",
       "      <td>0.726832</td>\n",
       "      <td>...</td>\n",
       "      <td>-0.350356</td>\n",
       "      <td>0.261436</td>\n",
       "      <td>0.228479</td>\n",
       "      <td>-0.074661</td>\n",
       "      <td>0.097454</td>\n",
       "      <td>-0.133517</td>\n",
       "      <td>0.282959</td>\n",
       "      <td>-0.037037</td>\n",
       "      <td>-0.067774</td>\n",
       "      <td>1.347320</td>\n",
       "    </tr>\n",
       "    <tr>\n",
       "      <th>220399</th>\n",
       "      <td>1.473130</td>\n",
       "      <td>-0.771461</td>\n",
       "      <td>-1.935011</td>\n",
       "      <td>1.648650</td>\n",
       "      <td>0.002056</td>\n",
       "      <td>-1.161882</td>\n",
       "      <td>0.969145</td>\n",
       "      <td>-0.457524</td>\n",
       "      <td>0.339598</td>\n",
       "      <td>0.164073</td>\n",
       "      <td>...</td>\n",
       "      <td>0.208218</td>\n",
       "      <td>0.105906</td>\n",
       "      <td>-0.250718</td>\n",
       "      <td>0.035859</td>\n",
       "      <td>0.326683</td>\n",
       "      <td>-0.522441</td>\n",
       "      <td>-0.080269</td>\n",
       "      <td>-0.013062</td>\n",
       "      <td>0.673364</td>\n",
       "      <td>3.846974</td>\n",
       "    </tr>\n",
       "    <tr>\n",
       "      <th>86546</th>\n",
       "      <td>0.874556</td>\n",
       "      <td>0.028103</td>\n",
       "      <td>0.949206</td>\n",
       "      <td>2.427185</td>\n",
       "      <td>-0.346842</td>\n",
       "      <td>0.522520</td>\n",
       "      <td>-0.251504</td>\n",
       "      <td>0.242281</td>\n",
       "      <td>-0.755448</td>\n",
       "      <td>0.743199</td>\n",
       "      <td>...</td>\n",
       "      <td>0.257700</td>\n",
       "      <td>0.494448</td>\n",
       "      <td>-0.117962</td>\n",
       "      <td>0.021798</td>\n",
       "      <td>0.276067</td>\n",
       "      <td>0.069338</td>\n",
       "      <td>0.006406</td>\n",
       "      <td>0.035184</td>\n",
       "      <td>-0.277349</td>\n",
       "      <td>1.215206</td>\n",
       "    </tr>\n",
       "  </tbody>\n",
       "</table>\n",
       "<p>5 rows × 30 columns</p>\n",
       "</div>"
      ],
      "text/plain": [
       "              V1        V2        V3        V4        V5        V6        V7  \\\n",
       "135251 -4.668495  3.932560 -0.343116 -2.199315 -1.041493 -0.859191  0.119151   \n",
       "112506 -1.193228 -0.067069  0.195100 -0.797864 -2.724207  2.082131  2.237805   \n",
       "129491 -2.139337 -0.477542  1.023329  0.553691 -0.760199 -0.079801 -0.250863   \n",
       "220399  1.473130 -0.771461 -1.935011  1.648650  0.002056 -1.161882  0.969145   \n",
       "86546   0.874556  0.028103  0.949206  2.427185 -0.346842  0.522520 -0.251504   \n",
       "\n",
       "              V8        V9       V10  ...       V21       V22       V23  \\\n",
       "135251  0.567686  2.825739  4.016222  ... -0.465558 -0.320141  0.194736   \n",
       "112506  0.279369  0.186022 -1.367085  ... -0.077393 -0.077975  0.425741   \n",
       "129491  0.230727 -0.971462  0.726832  ... -0.350356  0.261436  0.228479   \n",
       "220399 -0.457524  0.339598  0.164073  ...  0.208218  0.105906 -0.250718   \n",
       "86546   0.242281 -0.755448  0.743199  ...  0.257700  0.494448 -0.117962   \n",
       "\n",
       "             V24       V25       V26       V27       V28  scaled_time  \\\n",
       "135251  0.057258  0.352072  0.736281  0.991712  0.513882    -0.043533   \n",
       "112506 -0.743803 -0.710705  0.689694  0.110856 -0.047984    -0.143342   \n",
       "129491 -0.074661  0.097454 -0.133517  0.282959 -0.037037    -0.067774   \n",
       "220399  0.035859  0.326683 -0.522441 -0.080269 -0.013062     0.673364   \n",
       "86546   0.021798  0.276067  0.069338  0.006406  0.035184    -0.277349   \n",
       "\n",
       "        scaled_amount  \n",
       "135251      -0.259659  \n",
       "112506       8.201080  \n",
       "129491       1.347320  \n",
       "220399       3.846974  \n",
       "86546        1.215206  \n",
       "\n",
       "[5 rows x 30 columns]"
      ]
     },
     "execution_count": 8,
     "metadata": {},
     "output_type": "execute_result"
    }
   ],
   "source": [
    "X_train, y_train = train_df.drop('Class', axis=1), train_df['Class']\n",
    "X_valid, y_valid = valid_df.drop('Class', axis=1), valid_df['Class']\n",
    "X_test, y_test = test_df.drop('Class', axis=1), test_df['Class']\n",
    "\n",
    "X_train.head()"
   ]
  },
  {
   "cell_type": "markdown",
   "metadata": {},
   "source": [
    "### Creating a baseline model using Logistic Regression\n",
    "This classes here are very imbalanced"
   ]
  },
  {
   "cell_type": "code",
   "execution_count": 9,
   "metadata": {},
   "outputs": [],
   "source": [
    "from sklearn.linear_model import LogisticRegression\n",
    "from sklearn.metrics import recall_score, f1_score, precision_score, confusion_matrix\n",
    "\n",
    "def log_reg_results(X_train, y_train, X_valid, y_valid):\n",
    "    log_reg = LogisticRegression(solver='liblinear', penalty='l1', C=1.0)\n",
    "    log_reg.fit(X_train, y_train)\n",
    "    log_reg_predictions = log_reg.predict(X_valid)\n",
    "\n",
    "    log_reg_recall = recall_score(y_valid, log_reg_predictions)\n",
    "    log_reg_f1_score = f1_score(y_valid, log_reg_predictions)\n",
    "    log_reg_precision = precision_score(y_valid, log_reg_predictions)\n",
    "    log_reg_conf_mat = confusion_matrix(y_valid, log_reg_predictions)\n",
    "    print('F1 score: ', log_reg_f1_score)\n",
    "    print('Recall: ', log_reg_recall)\n",
    "    print('Precision: ', log_reg_precision)\n",
    "    return log_reg_conf_mat"
   ]
  },
  {
   "cell_type": "code",
   "execution_count": 10,
   "metadata": {},
   "outputs": [
    {
     "name": "stdout",
     "output_type": "stream",
     "text": [
      "F1 score:  0.7727272727272728\n",
      "Recall:  0.6710526315789473\n",
      "Precision:  0.9107142857142857\n"
     ]
    },
    {
     "data": {
      "image/png": "[encoded data removed]",
      "text/plain": [
       "<Figure size 288x216 with 2 Axes>"
      ]
     },
     "metadata": {
      "needs_background": "light"
     },
     "output_type": "display_data"
    }
   ],
   "source": [
    "cm = log_reg_results(X_train, y_train, X_valid, y_valid)    \n",
    "print_confusion_matrix(cm, ['not fraud', 'fraud'], figsize=(4, 3), fontsize=11)"
   ]
  },
  {
   "cell_type": "markdown",
   "metadata": {},
   "source": [
    "# Make an effort to balance out the classes using various techniques\n",
    "* Under-Sampling Techniques\n",
    "    * Random\n",
    "\n",
    "* Over-Sampling Techniques\n",
    "    * Random\n",
    "    * SMOTE"
   ]
  },
  {
   "cell_type": "markdown",
   "metadata": {},
   "source": [
    "### Random Under-Sampling\n",
    "* Randomly sample the negative class to match the number of instances in the positive class\n",
    "* Risk of loosing valuable infomation in training"
   ]
  },
  {
   "cell_type": "code",
   "execution_count": 11,
   "metadata": {},
   "outputs": [
    {
     "data": {
      "image/png": "[encoded data removed]",
      "text/plain": [
       "<Figure size 216x144 with 1 Axes>"
      ]
     },
     "metadata": {
      "needs_background": "light"
     },
     "output_type": "display_data"
    }
   ],
   "source": [
    "from sklearn.utils import resample\n",
    "\n",
    "fraud = train_df[train_df['Class'] == 1]\n",
    "not_fraud = train_df[train_df['Class'] == 0]\n",
    "\n",
    "undersample_not_fraud = resample(not_fraud, replace=False, n_samples=len(fraud), random_state=11)\n",
    "train_df_undersampled = pd.concat([fraud, undersample_not_fraud], axis=0).sample(frac=1)\n",
    "\n",
    "# confirm the classes are balances\n",
    "(train_df_undersampled['Class'].value_counts()\n",
    "     .plot(kind='bar', figsize=(3,2), title='Under-Sample Target Count', color=['navy', 'c']));"
   ]
  },
  {
   "cell_type": "code",
   "execution_count": 12,
   "metadata": {},
   "outputs": [
    {
     "name": "stdout",
     "output_type": "stream",
     "text": [
      "F1 score:  0.05426661423515533\n",
      "Recall:  0.9078947368421053\n",
      "Precision:  0.027969193352249695\n"
     ]
    },
    {
     "data": {
      "image/png": "[encoded data removed]",
      "text/plain": [
       "<Figure size 288x216 with 2 Axes>"
      ]
     },
     "metadata": {
      "needs_background": "light"
     },
     "output_type": "display_data"
    }
   ],
   "source": [
    "# get scores of Log Reg from from undersampled set\n",
    "X = train_df_undersampled.drop('Class', axis=1)\n",
    "y = train_df_undersampled['Class']\n",
    "cm = log_reg_results(X, y, X_valid, y_valid)\n",
    "print_confusion_matrix(cm, ['not fraud', 'fraud'], figsize=(4, 3), fontsize=11)"
   ]
  },
  {
   "cell_type": "markdown",
   "metadata": {},
   "source": [
    "**NOTES**\n",
    "* Precision and F1 significantly decreased, however recall inceased.  \n",
    "* In fraud detection, having a higher recall is more important. "
   ]
  },
  {
   "cell_type": "markdown",
   "metadata": {},
   "source": [
    "### Random Over-Sampling\n",
    "* Repeatedly sample the positive class until the number of instances are equal in both.\n",
    "* Risk of overfitting to the positive class"
   ]
  },
  {
   "cell_type": "code",
   "execution_count": 13,
   "metadata": {},
   "outputs": [
    {
     "data": {
      "image/png": "[encoded data removed]",
      "text/plain": [
       "<Figure size 216x144 with 1 Axes>"
      ]
     },
     "metadata": {
      "needs_background": "light"
     },
     "output_type": "display_data"
    }
   ],
   "source": [
    "fraud = train_df[train_df['Class'] == 1]\n",
    "not_fraud = train_df[train_df['Class'] == 0]\n",
    "\n",
    "oversample_fraud = resample(fraud, replace=True, n_samples=len(not_fraud), random_state=11)\n",
    "train_df_oversampled = pd.concat([not_fraud, oversample_fraud], axis=0).sample(frac=1)\n",
    "\n",
    "# confirm the classes are balanced\n",
    "(train_df_oversampled['Class'].value_counts()\n",
    "     .plot(kind='bar', figsize=(3,2), title='Over-Sample Target Count', color=['navy', 'c']));"
   ]
  },
  {
   "cell_type": "code",
   "execution_count": 14,
   "metadata": {},
   "outputs": [
    {
     "name": "stdout",
     "output_type": "stream",
     "text": [
      "F1 score:  0.09977989728539985\n",
      "Recall:  0.8947368421052632\n",
      "Precision:  0.05283605283605284\n"
     ]
    },
    {
     "data": {
      "image/png": "[encoded data removed]",
      "text/plain": [
       "<Figure size 288x216 with 2 Axes>"
      ]
     },
     "metadata": {
      "needs_background": "light"
     },
     "output_type": "display_data"
    }
   ],
   "source": [
    "# get scores of Log Reg from from oversampled set\n",
    "X = train_df_oversampled.drop('Class', axis=1)\n",
    "y = train_df_oversampled['Class']\n",
    "cm = log_reg_results(X, y, X_valid, y_valid)\n",
    "print_confusion_matrix(cm, ['not fraud', 'fraud'], figsize=(4, 3), fontsize=11)"
   ]
  },
  {
   "cell_type": "markdown",
   "metadata": {},
   "source": [
    "**NOTES**\n",
    "* Precision and F1 score is slightly increased from under-sampling, recall remained the same. \n",
    "* Over-sampling yielded a better result than under-sampling."
   ]
  },
  {
   "cell_type": "markdown",
   "metadata": {},
   "source": [
    "### SMOTE Over-Sampling\n",
    "* SMOTE (Synthetic Minority Oversampling TEchnique)\n",
    "* Consists of synthesizing elements for the minority class, based on those that already exist. \n",
    "* It works randomly picking a point from the minority class and computing the k-nearest neighbors for this point. \n",
    "* The synthetic points are added between the chosen point and its neighbors."
   ]
  },
  {
   "cell_type": "code",
   "execution_count": 15,
   "metadata": {},
   "outputs": [],
   "source": [
    "from imblearn.over_sampling import SMOTE\n",
    "\n",
    "smote = SMOTE(ratio='minority')\n",
    "X_smote, y_smote = smote.fit_sample(X_train, y_train)"
   ]
  },
  {
   "cell_type": "code",
   "execution_count": 16,
   "metadata": {},
   "outputs": [
    {
     "data": {
      "image/png": "[encoded data removed]",
      "text/plain": [
       "<Figure size 216x144 with 1 Axes>"
      ]
     },
     "metadata": {
      "needs_background": "light"
     },
     "output_type": "display_data"
    }
   ],
   "source": [
    "y_smote = pd.Series(y_smote)\n",
    "(y_smote.value_counts()\n",
    "     .plot(kind='bar', figsize=(3,2), title='Over-Sample Target Count', color=['navy', 'c']));"
   ]
  },
  {
   "cell_type": "code",
   "execution_count": 17,
   "metadata": {},
   "outputs": [
    {
     "name": "stdout",
     "output_type": "stream",
     "text": [
      "F1 score:  0.09630146545708304\n",
      "Recall:  0.9078947368421053\n",
      "Precision:  0.05084745762711865\n"
     ]
    },
    {
     "data": {
      "image/png": "[encoded data removed]",
      "text/plain": [
       "<Figure size 288x216 with 2 Axes>"
      ]
     },
     "metadata": {
      "needs_background": "light"
     },
     "output_type": "display_data"
    }
   ],
   "source": [
    "cm = log_reg_results(X_smote, y_smote, X_valid, y_valid)\n",
    "print_confusion_matrix(cm, ['not fraud', 'fraud'], figsize=(4, 3), fontsize=11)"
   ]
  },
  {
   "cell_type": "markdown",
   "metadata": {},
   "source": [
    "**NOTES:** \n",
    "The results are relatively the same as random over-sampling with vert slight changes in the F1 and precision scores.  The recall remained the same. "
   ]
  },
  {
   "cell_type": "markdown",
   "metadata": {},
   "source": [
    "## Upgrade the classifier\n",
    "Now that it is apparent which sampling method **(Random over-sampling)** performs best on a classifier, lets see if changing to a more complex classifier makes a difference in predictive power. "
   ]
  },
  {
   "cell_type": "code",
   "execution_count": 18,
   "metadata": {},
   "outputs": [
    {
     "name": "stdout",
     "output_type": "stream",
     "text": [
      "F1 score:  0.029405587061541692\n",
      "Recall:  0.9210526315789473\n",
      "Precision:  0.014941302027748132\n"
     ]
    },
    {
     "data": {
      "image/png": "[encoded data removed]",
      "text/plain": [
       "<Figure size 288x216 with 2 Axes>"
      ]
     },
     "metadata": {
      "needs_background": "light"
     },
     "output_type": "display_data"
    }
   ],
   "source": [
    "from sklearn.tree import DecisionTreeClassifier\n",
    "\n",
    "X_under = train_df_undersampled.drop('Class', axis=1)\n",
    "y_under = train_df_undersampled['Class']\n",
    "X_over = train_df_oversampled.drop('Class', axis=1)\n",
    "y_over = train_df_oversampled['Class']\n",
    "\n",
    "dec_tree = DecisionTreeClassifier()\n",
    "# dec_tree.fit(X_over, y_over)\n",
    "dec_tree.fit(X_under, y_under)\n",
    "dec_tree_predictions = dec_tree.predict(X_valid)\n",
    "\n",
    "dec_tree_recall = recall_score(y_valid, dec_tree_predictions)\n",
    "dec_tree_f1_score = f1_score(y_valid, dec_tree_predictions)\n",
    "dec_tree_precision = precision_score(y_valid, dec_tree_predictions)\n",
    "dec_tree_conf_mat = confusion_matrix(y_valid, dec_tree_predictions)\n",
    "\n",
    "print('F1 score: ', dec_tree_f1_score)\n",
    "print('Recall: ', dec_tree_recall)\n",
    "print('Precision: ', dec_tree_precision)\n",
    "print_confusion_matrix(dec_tree_conf_mat, ['not fraud', 'fraud'], figsize=(4, 3), fontsize=11)"
   ]
  },
  {
   "cell_type": "markdown",
   "metadata": {},
   "source": [
    "## Test"
   ]
  },
  {
   "cell_type": "code",
   "execution_count": 19,
   "metadata": {},
   "outputs": [
    {
     "name": "stdout",
     "output_type": "stream",
     "text": [
      "F1 score:  0.09529276693455797\n",
      "Recall:  0.8736842105263158\n",
      "Precision:  0.050394656952034\n"
     ]
    },
    {
     "data": {
      "image/png": "[encoded data removed]",
      "text/plain": [
       "<Figure size 288x216 with 2 Axes>"
      ]
     },
     "metadata": {
      "needs_background": "light"
     },
     "output_type": "display_data"
    }
   ],
   "source": [
    "# Test Logistic Regression     \n",
    "log_reg = LogisticRegression(solver='liblinear', penalty='l2', C=1.0)\n",
    "log_reg.fit(X_over, y_over)\n",
    "# log_reg.fit(X_under, y_under)\n",
    "log_reg_predictions = log_reg.predict(X_test)\n",
    "\n",
    "log_reg_recall = recall_score(y_test, log_reg_predictions)\n",
    "log_reg_f1_score = f1_score(y_test, log_reg_predictions)\n",
    "log_reg_precision = precision_score(y_test, log_reg_predictions)\n",
    "log_reg_conf_mat = confusion_matrix(y_test, log_reg_predictions)\n",
    "\n",
    "print('F1 score: ', log_reg_f1_score)\n",
    "print('Recall: ', log_reg_recall)\n",
    "print('Precision: ', log_reg_precision)\n",
    "print_confusion_matrix(log_reg_conf_mat, ['not fraud', 'fraud'], figsize=(4, 3), fontsize=11)"
   ]
  },
  {
   "cell_type": "code",
   "execution_count": 20,
   "metadata": {},
   "outputs": [
    {
     "name": "stdout",
     "output_type": "stream",
     "text": [
      "F1 score:  0.030404808202227327\n",
      "Recall:  0.9052631578947369\n",
      "Precision:  0.015462064005753326\n"
     ]
    },
    {
     "data": {
      "image/png": "[encoded data removed]",
      "text/plain": [
       "<Figure size 288x216 with 2 Axes>"
      ]
     },
     "metadata": {
      "needs_background": "light"
     },
     "output_type": "display_data"
    }
   ],
   "source": [
    "# Test Decision Tree Classifier\n",
    "dec_tree = DecisionTreeClassifier()\n",
    "dec_tree.fit(X_under, y_under)\n",
    "dec_tree_predictions = dec_tree.predict(X_test)\n",
    "\n",
    "dec_tree_recall = recall_score(y_test, dec_tree_predictions)\n",
    "dec_tree_f1_score = f1_score(y_test, dec_tree_predictions)\n",
    "dec_tree_precision = precision_score(y_test, dec_tree_predictions)\n",
    "dec_tree_conf_mat = confusion_matrix(y_test, dec_tree_predictions)\n",
    "\n",
    "print('F1 score: ', dec_tree_f1_score)\n",
    "print('Recall: ', dec_tree_recall)\n",
    "print('Precision: ', dec_tree_precision)\n",
    "print_confusion_matrix(dec_tree_conf_mat, ['not fraud', 'fraud'], figsize=(4, 3), fontsize=11)"
   ]
  },
  {
   "cell_type": "markdown",
   "metadata": {},
   "source": [
    "Trade-off between DT and LR.\n",
    "LR performs better with over fitting data.  The flase negatives are fewer and the recall is resonably good.\n",
    "DT performs better with under fitting the data.  The recall is higher, but it does come at the expence of lower precision and recall.  Large number of false positives. Also L1 regularization performs better than L2 in testing. "
   ]
  },
  {
   "cell_type": "code",
   "execution_count": null,
   "metadata": {},
   "outputs": [],
   "source": []
  }
 ],
 "metadata": {
  "kernelspec": {
   "display_name": "Python 3",
   "language": "python",
   "name": "python3"
  },
  "language_info": {
   "codemirror_mode": {
    "name": "ipython",
    "version": 3
   },
   "file_extension": ".py",
   "mimetype": "text/x-python",
   "name": "python",
   "nbconvert_exporter": "python",
   "pygments_lexer": "ipython3",
   "version": "3.7.1"
  }
 },
 "nbformat": 4,
 "nbformat_minor": 2
}
