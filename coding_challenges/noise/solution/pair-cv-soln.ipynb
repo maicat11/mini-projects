{
 "cells": [
  {
   "cell_type": "code",
   "execution_count": null,
   "metadata": {},
   "outputs": [],
   "source": [
    "import statsmodels.api as sm\n",
    "import statsmodels.formula.api as smf\n",
    "import seaborn\n",
    "seaborn.set_style(\"darkgrid\")\n",
    "import pandas as pd\n",
    "%pylab inline"
   ]
  },
  {
   "cell_type": "code",
   "execution_count": null,
   "metadata": {},
   "outputs": [],
   "source": [
    "n_points = 200\n",
    "n_features = 20\n",
    "y = np.random.randn(n_points,1)\n",
    "x = np.random.randn(n_points,n_features)\n",
    "\n",
    "model = sm.regression.linear_model.OLS(y,x)\n",
    "fit = model.fit()\n",
    "fit.summary2()"
   ]
  },
  {
   "cell_type": "code",
   "execution_count": null,
   "metadata": {},
   "outputs": [],
   "source": [
    "n_points = 200\n",
    "n_features = 200\n",
    "y = np.random.randn(n_points,1)\n",
    "x = np.random.randn(n_points,n_features)"
   ]
  },
  {
   "cell_type": "code",
   "execution_count": null,
   "metadata": {},
   "outputs": [],
   "source": [
    "num_sig = []\n",
    "rsquared = []\n",
    "rsquared_adj = []\n",
    "for i in range(0,n_features):\n",
    "    model = sm.regression.linear_model.OLS(y,x[:,:(i+1)])\n",
    "    fit = model.fit()\n",
    "    \n",
    "    num_sig.append(sum(fit.pvalues < .05))\n",
    "    rsquared.append(fit.rsquared)\n",
    "    rsquared_adj.append(fit.rsquared_adj)"
   ]
  },
  {
   "cell_type": "code",
   "execution_count": null,
   "metadata": {},
   "outputs": [],
   "source": [
    "fig,axes = subplots(nrows=3, ncols=1, sharex=True, figsize=(10,15))\n",
    "\n",
    "axes[0].plot(num_sig)\n",
    "axes[0].set_title(\"number of significant features\")\n",
    "axes[1].plot(rsquared)\n",
    "axes[1].set_title(\"$R^2$\")\n",
    "axes[2].plot(rsquared_adj)\n",
    "axes[2].set_title(\"$R^2_{adj}$\");"
   ]
  },
  {
   "cell_type": "code",
   "execution_count": null,
   "metadata": {},
   "outputs": [],
   "source": []
  }
 ],
 "metadata": {
  "language_info": {
   "codemirror_mode": {
    "name": "ipython",
    "version": 3
   },
   "file_extension": ".py",
   "mimetype": "text/x-python",
   "name": "python",
   "nbconvert_exporter": "python",
   "pygments_lexer": "ipython3",
   "version": "3.6.4"
  }
 },
 "nbformat": 4,
 "nbformat_minor": 2
}
