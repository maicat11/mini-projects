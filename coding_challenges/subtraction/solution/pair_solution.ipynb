{
 "cells": [
  {
   "cell_type": "code",
   "execution_count": null,
   "metadata": {},
   "outputs": [],
   "source": [
    "import numpy as np\n",
    "import matplotlib.pyplot as plt\n",
    "%matplotlib inline\n",
    "\n",
    "data = np.array([2, 7, 1, 5, 10])\n",
    "candidates = np.linspace(0, 10, 101)\n",
    "\n",
    "def mysos(x, data):\n",
    "    return sum((data - x)**2)\n",
    "\n",
    "results = []\n",
    "for x in candidates:\n",
    "    results.append(mysos(x,data))\n",
    "\n",
    "plt.plot(candidates, results)\n",
    "plt.show()"
   ]
  },
  {
   "cell_type": "code",
   "execution_count": null,
   "metadata": {},
   "outputs": [],
   "source": [
    "import numpy as np\n",
    "import matplotlib.pyplot as plt\n",
    "%matplotlib inline\n",
    "\n",
    "data = np.array([2, 7, 1, 5, 10])\n",
    "candidates = np.linspace(0, 10, 101)\n",
    "\n",
    "# Sum Of Square deviations\n",
    "sos = np.vectorize(lambda x, data: sum((data - x)**2),\n",
    "                   excluded=[1])\n",
    "results = sos(candidates, data)\n",
    "\n",
    "plt.plot(candidates, results)\n",
    "plt.show()"
   ]
  },
  {
   "cell_type": "code",
   "execution_count": null,
   "metadata": {},
   "outputs": [],
   "source": [
    "import numpy as np\n",
    "import matplotlib.pyplot as plt\n",
    "%matplotlib inline\n",
    "\n",
    "data = np.array([2, 7, 1, 5, 10])\n",
    "candidates = np.linspace(0, 10, 101)\n",
    "\n",
    "def mysos(x, data):\n",
    "    return sum((data - x)**2)\n",
    "               \n",
    "# Sum Of Square deviations\n",
    "sos = np.vectorize(mysos,\n",
    "                   excluded=[0])\n",
    "results = sos(data,candidates)\n",
    "\n",
    "plt.plot(candidates, results)\n",
    "plt.show()"
   ]
  },
  {
   "cell_type": "code",
   "execution_count": null,
   "metadata": {},
   "outputs": [],
   "source": [
    "type(results)"
   ]
  },
  {
   "cell_type": "code",
   "execution_count": null,
   "metadata": {},
   "outputs": [],
   "source": [
    "# note why we have a min at 5.0\n",
    "data.mean()"
   ]
  },
  {
   "cell_type": "code",
   "execution_count": null,
   "metadata": {},
   "outputs": [],
   "source": []
  }
 ],
 "metadata": {
  "language_info": {
   "codemirror_mode": {
    "name": "ipython",
    "version": 3
   },
   "file_extension": ".py",
   "mimetype": "text/x-python",
   "name": "python",
   "nbconvert_exporter": "python",
   "pygments_lexer": "ipython3",
   "version": "3.5.4"
  }
 },
 "nbformat": 4,
 "nbformat_minor": 1
}
