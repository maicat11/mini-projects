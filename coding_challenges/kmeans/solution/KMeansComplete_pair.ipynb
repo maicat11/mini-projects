{
 "cells": [
  {
   "cell_type": "code",
   "execution_count": null,
   "metadata": {},
   "outputs": [],
   "source": [
    "import numpy as np\n",
    "import matplotlib.pyplot as plt\n",
    "%matplotlib inline\n",
    "from copy import deepcopy\n",
    "points = np.random.rand(100,2)"
   ]
  },
  {
   "cell_type": "code",
   "execution_count": null,
   "metadata": {},
   "outputs": [],
   "source": [
    "def distance(A, B):\n",
    "    squares = [(a - b) ** 2 for a, b in zip(A, B)]\n",
    "    return sum(squares) ** 0.5"
   ]
  },
  {
   "cell_type": "code",
   "execution_count": null,
   "metadata": {},
   "outputs": [],
   "source": [
    "# def updateCentroids(points,centroids,clusters):\n",
    "#     counts = np.zeros(len(centroids))\n",
    "#     for i,c in enumerate(clusters):\n",
    "#         c = int(c)\n",
    "#         if counts[c]==0:\n",
    "#             centroids[c]=points[i]\n",
    "#         else:\n",
    "#             centroids[c]+=points[i]\n",
    "#         counts[c]+=1\n",
    "#     for i in range(len(centroids)):\n",
    "#         if counts[i]:\n",
    "#             centroids[i]/=counts[i]"
   ]
  },
  {
   "cell_type": "code",
   "execution_count": null,
   "metadata": {},
   "outputs": [],
   "source": [
    "def updateCentroids(points,centroids,clusters):\n",
    "    for i in range(len(centroids)):\n",
    "        centroids[i] = np.mean(points[i == clusters])"
   ]
  },
  {
   "cell_type": "code",
   "execution_count": null,
   "metadata": {},
   "outputs": [],
   "source": [
    "def assignPoints(points,centroids,clusters):\n",
    "    change = False\n",
    "    for i,p in enumerate(points):\n",
    "        d,j = min([(distance(c,p),loc) for loc,c in enumerate(centroids)])\n",
    "        if j!=clusters[i]:\n",
    "            clusters[i]=j\n",
    "            change = True\n",
    "    return change"
   ]
  },
  {
   "cell_type": "code",
   "execution_count": null,
   "metadata": {},
   "outputs": [],
   "source": [
    "def inertia(points,centroids,clusters):\n",
    "    value = 0\n",
    "    for i,p in enumerate(points):\n",
    "        value+=distance(centroids[int(clusters[i])],p)\n",
    "    return value"
   ]
  },
  {
   "cell_type": "code",
   "execution_count": null,
   "metadata": {},
   "outputs": [],
   "source": [
    "def KMeans(points,k=3):\n",
    "    clusters = np.zeros(len(points))\n",
    "    centroids = deepcopy(points[:k])\n",
    "    while assignPoints(points,centroids,clusters):\n",
    "        updateCentroids(points,centroids,clusters)\n",
    "    plt.scatter([p[0] for p in points],[p[1] for p in points],c=clusters)\n",
    "    plt.show()\n",
    "    return inertia(points,centroids,clusters)"
   ]
  },
  {
   "cell_type": "code",
   "execution_count": null,
   "metadata": {},
   "outputs": [],
   "source": [
    "i = [KMeans(points,k) for k in range(2,10)]"
   ]
  },
  {
   "cell_type": "code",
   "execution_count": null,
   "metadata": {},
   "outputs": [],
   "source": [
    "i"
   ]
  },
  {
   "cell_type": "code",
   "execution_count": null,
   "metadata": {},
   "outputs": [],
   "source": [
    "plt.plot(range(8),i)\n",
    "plt.show()"
   ]
  }
 ],
 "metadata": {
  "language_info": {
   "codemirror_mode": {
    "name": "ipython",
    "version": 2
   },
   "file_extension": ".py",
   "mimetype": "text/x-python",
   "name": "python",
   "nbconvert_exporter": "python",
   "pygments_lexer": "ipython2",
   "version": "2.7.11"
  }
 },
 "nbformat": 4,
 "nbformat_minor": 0
}
