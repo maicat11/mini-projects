{
 "cells": [
  {
   "cell_type": "markdown",
   "metadata": {},
   "source": [
    "#### Solution to Pair Problem #2\n",
    "\n",
    "This program will start at the first number and do the product of the required digits after it. Then it will move to the second number, etc.\n",
    "\n",
    "**To watch out: End Condition.** Look at the range for the for-loop and make sure you understand it.\n",
    "\n",
    "For N numbers and M digits, the first loop with run N-M (+1 but we don't need to track a constant) times and the inside loop will run M times each.\n",
    "\n",
    "So the execution time would be (N-M)xM. When M is low or close to N, this is fine. But when M=N/2, we get (N^2)/4. This is the worst case and that can be proved by taking a derivative of (N-M)xM over M and equating to zero. N-2xM=0. Hence M=N/2.\n",
    "\n",
    "So the complexity of this program would be **O(N^2)**."
   ]
  },
  {
   "cell_type": "code",
   "execution_count": null,
   "metadata": {},
   "outputs": [],
   "source": [
    "import numpy as np\n",
    "\n",
    "def max_product(numberString,adjacentDigits):\n",
    "    maxProduct=0\n",
    "    maxString=''\n",
    "    for i in range(len(numberString)-adjacentDigits+1):\n",
    "        prod = np.prod([int(v) for v in numberString[i:i+adjacentDigits]])\n",
    "        if prod>maxProduct:\n",
    "            maxProduct=prod\n",
    "            maxString=numberString[i:i+adjacentDigits]\n",
    "    return maxProduct,maxString"
   ]
  },
  {
   "cell_type": "code",
   "execution_count": null,
   "metadata": {},
   "outputs": [],
   "source": [
    "numberString = \"\"\"7316717653133062491922511967442657474235534919493496983520312774506326239578318016984801869478851843858615607891129494954595017379583319528532088055111254069874715852386305071569329096329522744304355766896648950445244523161731856403098711121722383113622298934233803081353362766142828064444866452387493035890729629049156044077239071381051585930796086670172427121883998797908792274921901699720888093776657273330010533678812202354218097512545405947522435258490771167055601360483958644670632441572215539753697817977846174064955149290862569321978468622482839722413756570560574902614079729686524145351004748216637048440319989000889524345065854122758866688116427171479924442928230863465674813919123162824586178664583591245665294765456828489128831426076900422421902267105562632111110937054421750694165896040807198403850962455444362981230987879927244284909188845801561660979191338754992005240636899125607176060588611646710940507754100225698315520005593572972571636269561882670428252483600823257530420752963450\"\"\"\n",
    "max_product(numberString,13)"
   ]
  },
  {
   "cell_type": "markdown",
   "metadata": {},
   "source": [
    "#### Improved Solution\n",
    "\n",
    "Since the O(N^2) solution above isn't too efficient, we want to make it better.\n",
    "\n",
    "One idea is to not compute the product everytime, but instead, as we move, divide the first number of the current substring from the product and multipy the following one.\n",
    "\n",
    "Example. For '23456' and length of 3. We would first do 2x3x4=24. The insead of doing 3x4x5=60, we will do 5x24/2=60.\n",
    "\n",
    "This way, we parse the list only once and the solution will be O(N).\n",
    "\n",
    "But if there are zeros in the string, that will mess things up. We can work around that by doing some bookkeeping. Anytime you hit zero, throw away everything and start over."
   ]
  },
  {
   "cell_type": "code",
   "execution_count": null,
   "metadata": {},
   "outputs": [],
   "source": [
    "import numpy as np\n",
    "\n",
    "def max_product2(numberString,adjacentDigits):\n",
    "    maxProduct=0\n",
    "    maxString=''\n",
    "    i = 0\n",
    "    length = 0\n",
    "    prod = 1\n",
    "    string = ''\n",
    "    while i<len(numberString):\n",
    "        if numberString[i]=='0': # first check for a leading zero\n",
    "            length=0\n",
    "            prod=1\n",
    "            string=''\n",
    "        else:\n",
    "            if length<adjacentDigits: # build out our product\n",
    "                length+=1\n",
    "                prod*=int(numberString[i])\n",
    "                string+=numberString[i]\n",
    "            else: #once we hit full length, we move to the multiply/divide ends strategy\n",
    "                prod=int(numberString[i])*prod/int(numberString[i-adjacentDigits]) \n",
    "                string=string[1:]+numberString[i]\n",
    "            if prod>maxProduct and length==adjacentDigits: # check for higher than previous max and at full length\n",
    "                maxProduct=prod\n",
    "                maxString=string\n",
    "        i+=1\n",
    "    return maxProduct,maxString"
   ]
  },
  {
   "cell_type": "code",
   "execution_count": null,
   "metadata": {},
   "outputs": [],
   "source": [
    "numberString = \"\"\"7316717653133062491922511967442657474235534919493496983520312774506326239578318016984801869478851843858615607891129494954595017379583319528532088055111254069874715852386305071569329096329522744304355766896648950445244523161731856403098711121722383113622298934233803081353362766142828064444866452387493035890729629049156044077239071381051585930796086670172427121883998797908792274921901699720888093776657273330010533678812202354218097512545405947522435258490771167055601360483958644670632441572215539753697817977846174064955149290862569321978468622482839722413756570560574902614079729686524145351004748216637048440319989000889524345065854122758866688116427171479924442928230863465674813919123162824586178664583591245665294765456828489128831426076900422421902267105562632111110937054421750694165896040807198403850962455444362981230987879927244284909188845801561660979191338754992005240636899125607176060588611646710940507754100225698315520005593572972571636269561882670428252483600823257530420752963450\"\"\"\n",
    "max_product2(numberString,13)"
   ]
  }
 ],
 "metadata": {
  "language_info": {
   "codemirror_mode": {
    "name": "ipython",
    "version": 3
   },
   "file_extension": ".py",
   "mimetype": "text/x-python",
   "name": "python",
   "nbconvert_exporter": "python",
   "pygments_lexer": "ipython3",
   "version": "3.5.4"
  }
 },
 "nbformat": 4,
 "nbformat_minor": 1
}
