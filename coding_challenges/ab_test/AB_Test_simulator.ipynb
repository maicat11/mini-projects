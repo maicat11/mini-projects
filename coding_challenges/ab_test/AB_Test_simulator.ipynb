{
 "cells": [
  {
   "cell_type": "markdown",
   "metadata": {},
   "source": [
    "## A/B Testing Simulation\n",
    "\n",
    "We are trying to improve the proportion of defects we have when manufacturing Banana cell phones. We have some data on two different processes we want to try and use, which we call `process0` (our current process) and `process1` (the new process). It is expensive to switch to `process1` unless we are reasonably sure it makes a substaintial improvement in the rates. We will make a small production line at one factory, and run a batch of size `N` through both processes. We are employing you to help us scope out how large a batch `N` we need."
   ]
  },
  {
   "cell_type": "markdown",
   "metadata": {},
   "source": [
    "1) Suppose `p0 = 0.05` and `p1 = 0.03` (i.e `p1` is better), and we make 1,000 phones through each process. Simulate this 10,000 times and tell us in how many of those simulations `p0` ends up with fewer defects than `p1` (i.e. how many times out of this 10,000 simulations did we get the wrong result)?"
   ]
  },
  {
   "cell_type": "code",
   "execution_count": 1,
   "metadata": {},
   "outputs": [
    {
     "data": {
      "text/plain": [
       "55.0"
      ]
     },
     "execution_count": 1,
     "metadata": {},
     "output_type": "execute_result"
    }
   ],
   "source": [
    "from generate_sample import get_sample_success\n",
    "\n",
    "# test - enter probablity success and number of trials\n",
    "get_sample_success(0.05, 1000)"
   ]
  },
  {
   "cell_type": "code",
   "execution_count": 2,
   "metadata": {},
   "outputs": [
    {
     "name": "stdout",
     "output_type": "stream",
     "text": [
      "In 10,000 simulations, process0 had less defects than process1 109 times.\n",
      "This is a rate of 1.09%\n"
     ]
    }
   ],
   "source": [
    "# question 1\n",
    "process0 = []\n",
    "process1 = []\n",
    "\n",
    "for i in range(10000):\n",
    "    process0.append(get_sample_success(0.05, 1000))\n",
    "    process1.append(get_sample_success(0.03, 1000))\n",
    "    \n",
    "wrong_results = sum([x < y for x, y in zip(process0, process1)])\n",
    "print(f\"In 10,000 simulations, process0 had less defects than process1 {wrong_results} times.\")\n",
    "print(f\"This is a rate of {wrong_results/10000 * 100}%\")"
   ]
  },
  {
   "cell_type": "markdown",
   "metadata": {},
   "source": [
    "2) Suppose `p0 = 0.05` and `p1 = 0.04` (i.e. `p1` is better, but less so) and we make 1,000 phones through each process. Simulating 10,000 times: how many simulations did `p0` end up with fewer defects than `p1`? How does this compare to the previous result?\n",
    "\n",
    "* As you can see from the results below, when the defect rate is increased on process1, then the amount in which process0 has better results increase since they are closer in defect rates. "
   ]
  },
  {
   "cell_type": "code",
   "execution_count": 3,
   "metadata": {},
   "outputs": [
    {
     "name": "stdout",
     "output_type": "stream",
     "text": [
      "In 10,000 simulations, process0 had less defects than process1 1299 times.\n",
      "This is a rate of 12.989999999999998%\n"
     ]
    }
   ],
   "source": [
    "# question 2\n",
    "process0 = []\n",
    "process1 = []\n",
    "\n",
    "for i in range(10000):\n",
    "    process0.append(get_sample_success(0.05, 1000))\n",
    "    process1.append(get_sample_success(0.04, 1000))\n",
    "    \n",
    "wrong_results = sum([x < y for x, y in zip(process0, process1)])\n",
    "print(f\"In 10,000 simulations, process0 had less defects than process1 {wrong_results} times.\") \n",
    "print(f\"This is a rate of {wrong_results/10000 * 100}%\")"
   ]
  },
  {
   "cell_type": "markdown",
   "metadata": {},
   "source": [
    "3) Suppose `p0 = 0.05` and `p1 = 0.04` and we make 20,000 phones through each process. Simulating 10,000 times, what proportion of simulations did we end up with the wrong answer (i.e. claiming that we should stick with `p0`?)"
   ]
  },
  {
   "cell_type": "code",
   "execution_count": 4,
   "metadata": {},
   "outputs": [
    {
     "name": "stdout",
     "output_type": "stream",
     "text": [
      "In 10,000 simulations, process0 had less defects than process1 0 times.\n",
      "This is a rate of 0.0%\n"
     ]
    }
   ],
   "source": [
    "# question 3\n",
    "process0 = []\n",
    "process1 = []\n",
    "\n",
    "for i in range(10000):\n",
    "    process0.append(get_sample_success(0.05, 20000))\n",
    "    process1.append(get_sample_success(0.04, 20000))\n",
    "    \n",
    "wrong_results = sum([x < y for x, y in zip(process0, process1)])\n",
    "print(f\"In 10,000 simulations, process0 had less defects than process1 {wrong_results} times.\") \n",
    "print(f\"This is a rate of {wrong_results/10000 * 100}%\")"
   ]
  },
  {
   "cell_type": "markdown",
   "metadata": {},
   "source": [
    "4) We think that the differences are probably `p0 = 0.05` and `p1 = 0.048`. How many phones do we need to put in the batch to make sure the probability of making the wrong call is less than 1%?\n",
    "* ~The approximate result is approximately 127,000 or greater to consistently get a result less than 1%.\n",
    "* See simulation below where the rate is always below "
   ]
  },
  {
   "cell_type": "code",
   "execution_count": 5,
   "metadata": {},
   "outputs": [
    {
     "name": "stdout",
     "output_type": "stream",
     "text": [
      "This is at 120000 phones produced. This is a rate of 1.16%\n",
      "This is at 121000 phones produced. This is a rate of 1.0%\n",
      "This is at 122000 phones produced. This is a rate of 0.8699999999999999%\n",
      "This is at 123000 phones produced. This is a rate of 1.01%\n",
      "This is at 124000 phones produced. This is a rate of 1.0%\n",
      "This is at 125000 phones produced. This is a rate of 1.01%\n",
      "This is at 126000 phones produced. This is a rate of 1.2%\n",
      "This is at 127000 phones produced. This is a rate of 0.8099999999999999%\n",
      "This is at 128000 phones produced. This is a rate of 0.8999999999999999%\n",
      "This is at 129000 phones produced. This is a rate of 0.9299999999999999%\n",
      "This is at 130000 phones produced. This is a rate of 0.89%\n",
      "This is at 131000 phones produced. This is a rate of 0.91%\n",
      "This is at 132000 phones produced. This is a rate of 0.8200000000000001%\n",
      "This is at 133000 phones produced. This is a rate of 0.8%\n",
      "This is at 134000 phones produced. This is a rate of 0.79%\n",
      "This is at 135000 phones produced. This is a rate of 0.66%\n",
      "This is at 136000 phones produced. This is a rate of 1.0%\n",
      "This is at 137000 phones produced. This is a rate of 0.8099999999999999%\n",
      "This is at 138000 phones produced. This is a rate of 0.7000000000000001%\n",
      "This is at 139000 phones produced. This is a rate of 0.69%\n"
     ]
    }
   ],
   "source": [
    "# question 4\n",
    "for i in range(120000, 140000, 1000):\n",
    "    process0 = []\n",
    "    process1 = []\n",
    "    for _ in range(10000):\n",
    "        process0.append(get_sample_success(0.05, i))\n",
    "        process1.append(get_sample_success(0.048, i))\n",
    "\n",
    "    wrong_results = sum([x < y for x, y in zip(process0, process1)])\n",
    "    print(f\"This is at {i} phones produced. This is a rate of {wrong_results/10000 * 100}%\")"
   ]
  },
  {
   "cell_type": "code",
   "execution_count": null,
   "metadata": {},
   "outputs": [],
   "source": []
  },
  {
   "cell_type": "code",
   "execution_count": null,
   "metadata": {},
   "outputs": [],
   "source": []
  }
 ],
 "metadata": {
  "kernelspec": {
   "display_name": "Python 3",
   "language": "python",
   "name": "python3"
  },
  "language_info": {
   "codemirror_mode": {
    "name": "ipython",
    "version": 3
   },
   "file_extension": ".py",
   "mimetype": "text/x-python",
   "name": "python",
   "nbconvert_exporter": "python",
   "pygments_lexer": "ipython3",
   "version": "3.7.1"
  }
 },
 "nbformat": 4,
 "nbformat_minor": 2
}
