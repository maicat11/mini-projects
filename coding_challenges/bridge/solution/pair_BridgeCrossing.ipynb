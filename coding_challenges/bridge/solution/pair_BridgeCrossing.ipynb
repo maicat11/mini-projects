{
 "cells": [
  {
   "cell_type": "markdown",
   "metadata": {},
   "source": [
    "# Pair Problem: Bridge crossing\n",
    "\n",
    "`N` walkers need to cross a footbridge. Each person has a specific time it would take them to cross the bridge. Atmost two people can go together (and in that case, the time taken will be the maximum of the two). Also, they need a flashlight to cross and there is only one flashlight available.\n",
    "\n",
    "Given a list of times for the `N` walkers, compute the minimum time needed for the entire group to cross.\n",
    "\n",
    "For example, given [1,2,3]. 1 & 2 would cross (time taken = 2). 1 will come back with the flashlight (time taken = 1). 1 & 3 would cross (time taken =3). So a total of 2+1+3=6.\n",
    "\n",
    "This is a challenging problem. Your solution doesn't have to get the minimum time. Come up with some heuristic and compute the crossing time for it. Then see if you can improve your heuristic.\n"
   ]
  },
  {
   "cell_type": "markdown",
   "metadata": {},
   "source": [
    ">Students will likely default to sending back the fastest walker every time. Key hint is to prompt them on better ways to bring the slower walkers: pair them together since once is a bottleneck anyway."
   ]
  },
  {
   "cell_type": "code",
   "execution_count": null,
   "metadata": {},
   "outputs": [],
   "source": [
    "def getTime(w):\n",
    "    w.sort()\n",
    "    s=0\n",
    "    while len(w)>3:\n",
    "        d = w.pop()\n",
    "        c = w.pop()\n",
    "        s+= min(d+w[0]+2*w[1],d+c+2*w[0])\n",
    "    s+= sum(w) if len(w)==3 else w[1]\n",
    "    return s"
   ]
  },
  {
   "cell_type": "code",
   "execution_count": null,
   "metadata": {},
   "outputs": [],
   "source": [
    "getTime([8,9,1,4,3,6,7])"
   ]
  },
  {
   "cell_type": "code",
   "execution_count": null,
   "metadata": {},
   "outputs": [],
   "source": [
    "def getTime2(w,r=[]):\n",
    "    if len(w)==1:\n",
    "        return w[0]\n",
    "    if len(w)==2:\n",
    "        return max(w[0],w[1])\n",
    "    ss = []\n",
    "    for i in range(len(w)):\n",
    "        for j in range(i+1,len(w)):\n",
    "            nw = w[:]\n",
    "            b = nw.pop(j)\n",
    "            a = nw.pop(i)\n",
    "            nr = r[:]\n",
    "            nr.append(a)\n",
    "            nr.append(b)\n",
    "            s = []\n",
    "            for k in range(len(nr)):\n",
    "                nnr = nr[:]\n",
    "                c = nnr.pop(k)\n",
    "                nnw = nw[:]\n",
    "                nnw.append(c)\n",
    "                s.append(c+getTime2(nnw,nnr))\n",
    "            ss.append(min(s)+max(a,b))\n",
    "    return min(ss)"
   ]
  },
  {
   "cell_type": "code",
   "execution_count": null,
   "metadata": {},
   "outputs": [],
   "source": [
    "getTime2([8,9,1,4,3,6])"
   ]
  },
  {
   "cell_type": "markdown",
   "metadata": {},
   "source": [
    "[Puzzle Answer](http://rainton.com/fun/puzzles/?page=real_flashlight_answer)"
   ]
  }
 ],
 "metadata": {
  "language_info": {
   "codemirror_mode": {
    "name": "ipython",
    "version": 3
   },
   "file_extension": ".py",
   "mimetype": "text/x-python",
   "name": "python",
   "nbconvert_exporter": "python",
   "pygments_lexer": "ipython3",
   "version": "3.5.3"
  }
 },
 "nbformat": 4,
 "nbformat_minor": 1
}
