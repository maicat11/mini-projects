{
 "cells": [
  {
   "cell_type": "code",
   "execution_count": null,
   "metadata": {},
   "outputs": [],
   "source": [
    "# %load pair.py\n",
    "import numpy as np\n",
    "\n",
    "docs = [[0.98, 0.01, 0.01],\n",
    "        [0.01, 0.98, 0.01],\n",
    "        [0.01, 0.01, 0.98]]\n",
    "topics = [[ 0.4,      0.4,   0.01,        0.01,    0.01,       0.01,\n",
    "            0.1,     0.04,   0.01,        0.01],\n",
    "          [0.01,     0.01,    0.4,         0.4,    0.01,       0.01,\n",
    "            0.1,     0.04,   0.01,        0.01],\n",
    "          [0.02,     0.02,   0.01,        0.01,     0.4,        0.4,\n",
    "           0.02,      0.1,   0.01,        0.01]]\n",
    "words =  ['cat', 'kitten',  'dog',     'puppy',  'deep', 'learning',\n",
    "          'fur',  'image',  'GPU', 'asparagus']"
   ]
  },
  {
   "cell_type": "code",
   "execution_count": null,
   "metadata": {},
   "outputs": [],
   "source": [
    "np.random.dirichlet(np.ones(len(topics)))"
   ]
  },
  {
   "cell_type": "code",
   "execution_count": null,
   "metadata": {},
   "outputs": [],
   "source": [
    "def make_doc(topic_probs=None, n_words=40, verbose=True):\n",
    "    if topic_probs is None:\n",
    "        topic_probs = np.random.dirichlet(np.ones(len(topics)))\n",
    "    if verbose:\n",
    "        print('topic_probs:', topic_probs)\n",
    "    results = []\n",
    "    for _ in range(n_words):\n",
    "        i_topic = np.random.choice(len(topics), p=topic_probs)\n",
    "        topic = topics[i_topic]\n",
    "        #print(topic)\n",
    "        word = np.random.choice(words, p=topic)\n",
    "        results.append(word)\n",
    "    return ' '.join(results)"
   ]
  },
  {
   "cell_type": "code",
   "execution_count": null,
   "metadata": {},
   "outputs": [],
   "source": [
    "# print generated docs using topic probabilities\n",
    "for doc in docs:\n",
    "    print(make_doc(topic_probs=doc, n_words=10, verbose=False))"
   ]
  },
  {
   "cell_type": "code",
   "execution_count": null,
   "metadata": {},
   "outputs": [],
   "source": [
    "# use dirichlet\n",
    "for doc in docs:\n",
    "    print(make_doc(n_words=10, verbose=False))"
   ]
  },
  {
   "cell_type": "raw",
   "metadata": {},
   "source": [
    "\"\"\"\n",
    "# Example output:\n",
    "cat learning kitten image kitten cat deep image cat kitten\n",
    "puppy puppy learning dog puppy dog dog puppy image dog\n",
    "deep learning deep image deep deep deep deep learning learning\n",
    "\"\"\""
   ]
  },
  {
   "cell_type": "code",
   "execution_count": null,
   "metadata": {},
   "outputs": [],
   "source": []
  }
 ],
 "metadata": {
  "language_info": {
   "codemirror_mode": {
    "name": "ipython",
    "version": 3
   },
   "file_extension": ".py",
   "mimetype": "text/x-python",
   "name": "python",
   "nbconvert_exporter": "python",
   "pygments_lexer": "ipython3",
   "version": "3.5.4"
  }
 },
 "nbformat": 4,
 "nbformat_minor": 2
}
