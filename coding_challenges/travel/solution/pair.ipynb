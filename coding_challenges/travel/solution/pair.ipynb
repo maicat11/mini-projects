{
 "cells": [
  {
   "cell_type": "code",
   "execution_count": null,
   "metadata": {},
   "outputs": [],
   "source": [
    "import numpy as np\n",
    "import itertools\n",
    "\n",
    "def myMatMultiply(mat1,mat2):\n",
    "    mat2 = np.array(mat2).transpose()\n",
    "    p = [min([a+b for a,b in zip(mat1[i],mat2[j])]) for i,j in itertools.product(range(len(mat1)), range(len(mat2)))]\n",
    "    return np.array(p).reshape(len(mat1),len(mat2))\n",
    "\n",
    "cities = [[0,9,1,9,9,9],[9,0,9,1,9,9],[1,9,0,9,1,9],[9,1,9,0,9,1],[9,9,1,9,0,1],[9,9,9,1,1,0]]\n",
    "\n",
    "p = cities\n",
    "for i in range(len(cities)-1):\n",
    "    print i, p[0][1]\n",
    "    p = myMatMultiply(p,cities)\n"
   ]
  },
  {
   "cell_type": "code",
   "execution_count": null,
   "metadata": {},
   "outputs": [],
   "source": []
  }
 ],
 "metadata": {
  "language_info": {
   "codemirror_mode": {
    "name": "ipython",
    "version": 2
   },
   "file_extension": ".py",
   "mimetype": "text/x-python",
   "name": "python",
   "nbconvert_exporter": "python",
   "pygments_lexer": "ipython2",
   "version": "2.7.11"
  }
 },
 "nbformat": 4,
 "nbformat_minor": 0
}
