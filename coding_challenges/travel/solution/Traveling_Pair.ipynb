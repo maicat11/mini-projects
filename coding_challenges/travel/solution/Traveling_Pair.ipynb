{
 "cells": [
  {
   "cell_type": "markdown",
   "metadata": {},
   "source": [
    "# Pair Problem\n",
    "\n",
    "You are given a square matrix T. T[x,y] gives the time it takes to go from city x to city y. T[x,x] is zero. All other values are positive integers. T[x,y]=T[y,x]. Naturally, when traveling from x to y, sometimes its faster to go through another city than going directly from x to y.\n",
    "\n",
    "\n",
    "1) Write a function that will give you the shortest travel time from city A to city B, with at most one stop-over (Ex. A->E->B).\n",
    "\n",
    "2) Modify the function to give the shortest travel time from city A to city B, with **at most two stop-overs**.\n",
    "\n",
    "3) Write a function to find the shortest travel time from city A to city B with any number of stop-overs. And what is the complexity of the function? Can you improve it? Note, I'm not interested in the actual path, only the time it will take on the shortest possible path."
   ]
  },
  {
   "cell_type": "markdown",
   "metadata": {},
   "source": [
    "# Solution"
   ]
  },
  {
   "cell_type": "markdown",
   "metadata": {},
   "source": [
    "How can we tackle this problem? Let's say we wanted to compute the shortest distance between city 1 and city 2 in two moves. We would have to check the routes:\n",
    "\n",
    "```\n",
    "1->3->2\n",
    "1->4->2\n",
    "1->5->2\n",
    "...\n",
    "```\n",
    "\n"
   ]
  },
  {
   "cell_type": "markdown",
   "metadata": {},
   "source": [
    "Let's say we did that, and ended up with a new matrix containing the shortest way to get between city `i` and city `j` in _2_ steps, for each cell in the matrix.\n",
    "\n",
    "Then, to this matrix - call it a _2-step matrix_, we could add the distances between each city from the original matrix to get a _3-step matrix_. And so on!"
   ]
  },
  {
   "cell_type": "markdown",
   "metadata": {},
   "source": [
    "So, let's first try to get the _2-step matrix_. Suppose we have an original 6x6 matrix:\n",
    "```\n",
    "cities = [[0,9,1,9,9,9],\n",
    "          [9,0,9,1,9,9],\n",
    "          [1,9,0,9,1,9],\n",
    "          [9,1,9,0,9,1],\n",
    "          [9,9,1,9,0,1],\n",
    "          [9,9,9,1,1,0]]\n",
    "```\n",
    "\n"
   ]
  },
  {
   "cell_type": "markdown",
   "metadata": {},
   "source": [
    "If we want to compute the shortest path in 2 steps between, say, city 0 and city 1, we would have to compute the total cost of the paths:\n",
    "\n",
    "```\n",
    "0->2->1\n",
    "0->3->1\n",
    "...\n",
    "```"
   ]
  },
  {
   "cell_type": "markdown",
   "metadata": {},
   "source": [
    "We could compute these by summing\n",
    "\n",
    "`cities[0][2]` \n",
    "\n",
    "and\n",
    "\n",
    "`cities[2][1]`\n",
    "\n",
    "for the `0->2->1` path, for example."
   ]
  },
  {
   "cell_type": "markdown",
   "metadata": {},
   "source": [
    "We could also add `cities[0][3]` and `cities[3][1]`, `cities[0][4]` and `cities[4][1]` etc., and eventually take the `min` of all of these to get the minimum path of length two between two cities. "
   ]
  },
  {
   "cell_type": "markdown",
   "metadata": {},
   "source": [
    "This is equivalent to doing the following: \n",
    "\n",
    "1. take `cities` and `cities.T`, the transpose of `cities`.\n",
    "2. Add up the `i`th row of `cities` and the `j`th row of `cities.T`, elementwise. In the above example, these would be the rows with indices `0` and `1`.\n",
    "3. Take the `min` of these to get the final value in the matrix representing the shortest path between two cities in 2 steps."
   ]
  },
  {
   "cell_type": "markdown",
   "metadata": {},
   "source": [
    "This is exactly what the code below does:"
   ]
  },
  {
   "cell_type": "code",
   "execution_count": null,
   "metadata": {},
   "outputs": [],
   "source": [
    "import numpy as np\n",
    "import itertools\n",
    "\n",
    "def calc_plus_one_distance(mat1, mat2):\n",
    "    # Transpose the matrix\n",
    "    mat2 = np.array(mat2).transpose()\n",
    "    \n",
    "    # Compute all the possible distances\n",
    "    p = [min([a+b for a,b in zip(mat1[i],mat2[j])]) for i,j in itertools.product(range(len(mat1)), range(len(mat2)))]\n",
    "    \n",
    "    # Reshape the result into the final matrix\n",
    "    return np.array(p).reshape(len(mat1),len(mat2))\n",
    "\n",
    "\n",
    "def calc_distances(in_mat, num_steps):\n",
    "    in_mat_n_steps = in_mat\n",
    "    \n",
    "    # Repeatedly perform the \"plus one step\" operation on the original matrix\n",
    "    for i in range(num_steps):\n",
    "        in_mat_n_steps = calc_plus_one_distance(in_mat_n_steps, in_mat)\n",
    "    \n",
    "    return in_mat_n_steps"
   ]
  },
  {
   "cell_type": "markdown",
   "metadata": {},
   "source": [
    "Check out the following `cities` matrix."
   ]
  },
  {
   "cell_type": "code",
   "execution_count": null,
   "metadata": {},
   "outputs": [],
   "source": [
    "cities = [[0,9,1,9,9,9],\n",
    "          [9,0,9,1,9,9],\n",
    "          [1,9,0,9,1,9],\n",
    "          [9,1,9,0,9,1],\n",
    "          [9,9,1,9,0,1],\n",
    "          [9,9,9,1,1,0]]"
   ]
  },
  {
   "cell_type": "code",
   "execution_count": null,
   "metadata": {},
   "outputs": [],
   "source": [
    "# check that our initial function works\n",
    "calc_plus_one_distance(cities, cities)"
   ]
  },
  {
   "cell_type": "markdown",
   "metadata": {},
   "source": [
    "Notice that you cannot go from city `0` to city `1` in distance less than 9 in less than 4 steps - with 5 steps, though, you can do it in distance `5`! That is what the code below proves:"
   ]
  },
  {
   "cell_type": "code",
   "execution_count": null,
   "metadata": {},
   "outputs": [],
   "source": [
    "for i in range(6):\n",
    "    print(\"Num steps:\", i+1)\n",
    "    print(\"Shortest distance:\", calc_distances(cities, i)[0][1])"
   ]
  }
 ],
 "metadata": {
  "language_info": {
   "codemirror_mode": {
    "name": "ipython",
    "version": 3
   },
   "file_extension": ".py",
   "mimetype": "text/x-python",
   "name": "python",
   "nbconvert_exporter": "python",
   "pygments_lexer": "ipython3",
   "version": "3.5.6"
  }
 },
 "nbformat": 4,
 "nbformat_minor": 2
}
