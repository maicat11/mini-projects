{
 "cells": [
  {
   "cell_type": "markdown",
   "metadata": {},
   "source": [
    "# Pair Problem:\n",
    "\n",
    "A man went to get his check chashed. The teller by mistake swapped the dollar and cent amounts. The man ended up with double the amount minus one cent.\n",
    "\n",
    "Can you say what was the amount on the check? First see if you can you solve this on paper. Then do it in Python. And then go back to the paper."
   ]
  },
  {
   "cell_type": "markdown",
   "metadata": {},
   "source": [
    "Let's say the check was for A dollars and B cents. He received, B dollars and A cents. Which was double minus one cent.\n",
    "\n",
    "We can write an equation:\n",
    "\n",
    "        100B+A = 2(100A+B)-1\n",
    "    \n",
    "We have two variables and one equation. How do we solve it?\n",
    "\n",
    "We can either try to come up with another equation. Or we can say, I have one equation, but I know that the possible values are limited to integers and are bound (0 to 99). So we can loop through those values and see what fits.\n",
    "\n",
    "The former would be an analytical solution and the latter would be an iterative or programmatic solution. Let's try both.\n",
    "\n",
    "What if we tried to do this:\n",
    "\n",
    "        B = 2A (the dollar amount he received is double the one on the check)\n",
    "        A = 2B-1 (the cents he received is double the one on the check)\n",
    "\n",
    "If we try to solve it, we get the following which is no good.\n",
    "\n",
    "        3A = 1\n",
    "\n",
    "A and B both can't be a double of each other. What's happening here? The other possibility is that, the cent value was over 50. Then, when it gets doubled, there would be a carryover.\n",
    "\n",
    "\t\tA = 2B-1-100\n",
    "\t\tB = 2A+1\n",
    "\n",
    "Let's solve that:\n",
    "\n",
    "\t\tA = 4A+2-1-100\n",
    "\t\t3A = 99\n",
    "\t\tA = 33\n",
    "\t\tB = 67\n",
    "Done!\n",
    "\n",
    "The iterative approach would be reformat our original equation:\n",
    "\n",
    "        100B+A = 2(100A+B)-1\n",
    "        A = (98B+1)/199\n",
    "        \n",
    "We can then try to find a B that would give us an A that is an integer between 0 and 99. It's doable by hand. Using Python it's very easy"
   ]
  },
  {
   "cell_type": "code",
   "execution_count": null,
   "metadata": {},
   "outputs": [],
   "source": [
    "for i in range(100):\n",
    "    for j in range(100):\n",
    "        if 100*j+i==2*(100*i+j)-1:\n",
    "            print(i,j)\n",
    "            break\n",
    "        "
   ]
  },
  {
   "cell_type": "code",
   "execution_count": null,
   "metadata": {},
   "outputs": [],
   "source": [
    "for j in range(100):\n",
    "    i = (98.0*j+1)/199.0\n",
    "    if i==int(i) and i>=0 and i<=99:\n",
    "        print(int(i),j)\n",
    "        break"
   ]
  }
 ],
 "metadata": {
  "language_info": {
   "codemirror_mode": {
    "name": "ipython",
    "version": 3
   },
   "file_extension": ".py",
   "mimetype": "text/x-python",
   "name": "python",
   "nbconvert_exporter": "python",
   "pygments_lexer": "ipython3",
   "version": "3.5.4"
  }
 },
 "nbformat": 4,
 "nbformat_minor": 1
}
