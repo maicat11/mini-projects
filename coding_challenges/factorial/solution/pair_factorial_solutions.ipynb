{
 "cells": [
  {
   "cell_type": "markdown",
   "metadata": {},
   "source": [
    "### Factorial\n",
    "\n",
    "We have three implementations of factorial below. The first one loops through the numbers. The second one uses numpy's product function. And the third one uses recursion.\n",
    "\n",
    "The complexity of all three functions are the same: **O(N)**. But it's good to keep in mind that the numpy version is the fastest, since it's vectorized. And the recursion is the slowest, since we are calling multiple functions."
   ]
  },
  {
   "cell_type": "code",
   "execution_count": null,
   "metadata": {},
   "outputs": [],
   "source": [
    "import numpy as np\n",
    "def factorial(n):\n",
    "    return np.prod(range(1,n+1))"
   ]
  },
  {
   "cell_type": "code",
   "execution_count": null,
   "metadata": {},
   "outputs": [],
   "source": [
    "def factorial(n):\n",
    "    p = 1\n",
    "    for i in range(1,n+1):\n",
    "        p*=i\n",
    "    return p"
   ]
  },
  {
   "cell_type": "code",
   "execution_count": null,
   "metadata": {},
   "outputs": [],
   "source": [
    "def factorial(n):\n",
    "    if n<=1:\n",
    "        return 1\n",
    "    else:\n",
    "        return n*factorial(n-1)"
   ]
  },
  {
   "cell_type": "code",
   "execution_count": null,
   "metadata": {},
   "outputs": [],
   "source": [
    "factorial(8)"
   ]
  },
  {
   "cell_type": "markdown",
   "metadata": {},
   "source": [
    "### Fibonacci\n",
    "\n",
    "The first function builds a list. The complexity of this code is **O(N)**"
   ]
  },
  {
   "cell_type": "code",
   "execution_count": null,
   "metadata": {},
   "outputs": [],
   "source": [
    "fibSeries = [0,1]\n",
    "def fib2(n):\n",
    "    for i in range(2,n):\n",
    "        fibSeries.append(fibSeries[i-1]+fibSeries[i-2])\n",
    "    return fibSeries[n-1]"
   ]
  },
  {
   "cell_type": "markdown",
   "metadata": {},
   "source": [
    "We could do it recursively this way:"
   ]
  },
  {
   "cell_type": "code",
   "execution_count": null,
   "metadata": {},
   "outputs": [],
   "source": [
    "def fib(n):\n",
    "    if n==1:\n",
    "        return 0\n",
    "    elif n==2:\n",
    "        return 1\n",
    "    else:\n",
    "        return fib(n-1)+fib(n-2)"
   ]
  },
  {
   "cell_type": "markdown",
   "metadata": {},
   "source": [
    "The issue with this implementation is that each function calls two functions and that become exponetial. Think of fib(20). It will call fib(18) and fib(19). fib(19) will call fib(18) and fib(17). So fib(18) gets called 2 times, fib(17) 3 times, etc. And the count goes up exponetially. The same code as above with a counter. fib(20) causes the function to be called over 13K times. Try fib(40)... the code wouldn't even complete."
   ]
  },
  {
   "cell_type": "code",
   "execution_count": null,
   "metadata": {},
   "outputs": [],
   "source": [
    "count = 0\n",
    "def fib(n):\n",
    "    global count\n",
    "    count+=1\n",
    "    if n==1:\n",
    "        return 0\n",
    "    elif n==2:\n",
    "        return 1\n",
    "    else:\n",
    "        return fib(n-1)+fib(n-2)"
   ]
  },
  {
   "cell_type": "code",
   "execution_count": null,
   "metadata": {},
   "outputs": [],
   "source": [
    "count = 0\n",
    "fib(20)\n",
    "print count"
   ]
  },
  {
   "cell_type": "markdown",
   "metadata": {},
   "source": [
    "One way to improve this is called **memoization**. We check to see if a particular value has been computed before, and if so, return that instead of going through the function again. Below, we manually implement memoization **using a dictionary**. Some programming languages do it automatically. In Python, one could accomplish that using decorator fuctions.\n",
    "http://stackoverflow.com/questions/1988804/what-is-memoization-and-how-can-i-use-it-in-python"
   ]
  },
  {
   "cell_type": "code",
   "execution_count": null,
   "metadata": {},
   "outputs": [],
   "source": [
    "from collections import defaultdict\n",
    "d = defaultdict(int)\n",
    "def fib(n):\n",
    "    if d[n]:\n",
    "        return d[n]\n",
    "    if n==1:\n",
    "        d[n]=0\n",
    "    elif n==2:\n",
    "        d[n]=1\n",
    "    else:\n",
    "        d[n]=fib(n-1)+fib(n-2)\n",
    "    return d[n]"
   ]
  },
  {
   "cell_type": "markdown",
   "metadata": {},
   "source": [
    "Another approach is called **Dynamic Programming**. In this, we will rewrite the recursion using a set of arrays and loops. For the Fibonacci series, that brings us back to our original solution. That's because it's a simple problem and our original solution was the most effective. But for harder problems, a good route to take is to think recursively and then rewrite using dynamic programming."
   ]
  },
  {
   "cell_type": "code",
   "execution_count": null,
   "metadata": {},
   "outputs": [],
   "source": [
    "fibSeries = [0,1]\n",
    "def fib2(n):\n",
    "    for i in range(2,n):\n",
    "        fibSeries.append(fibSeries[i-1]+fibSeries[i-2])\n",
    "    return fibSeries[n-1]"
   ]
  },
  {
   "cell_type": "code",
   "execution_count": null,
   "metadata": {},
   "outputs": [],
   "source": [
    "fib2(10)"
   ]
  }
 ],
 "metadata": {
  "language_info": {
   "codemirror_mode": {
    "name": "ipython",
    "version": 2
   },
   "file_extension": ".py",
   "mimetype": "text/x-python",
   "name": "python",
   "nbconvert_exporter": "python",
   "pygments_lexer": "ipython2",
   "version": "2.7.11"
  }
 },
 "nbformat": 4,
 "nbformat_minor": 0
}
