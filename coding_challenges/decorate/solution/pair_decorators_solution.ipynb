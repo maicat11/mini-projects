{
 "cells": [
  {
   "cell_type": "markdown",
   "metadata": {},
   "source": [
    "# Decorators"
   ]
  },
  {
   "cell_type": "markdown",
   "metadata": {},
   "source": [
    "### What are they? \n",
    "A decorator wraps a function, modifying its behavior.\n",
    "\n",
    "In this example:\n",
    "* `square()` is the function\n",
    "* `talky()` is the decorator\n",
    "\n",
    "### Why are they useful?\n",
    "\n",
    "\n",
    "***(1) Permanently modifies a function's behavior***\n",
    "\n",
    "Without a decorator:\n",
    "\n",
    "* Everytime you call the square function, you have to wrap the talky function around it.\n",
    "\n",
    "With a decorator:\n",
    "\n",
    "* Everytime you call the square function, the talky function will automatically be wrapped around it.\n",
    "\n",
    "***(2) Easier to read (especially with syntactic sugar)***\n",
    "\n",
    "Without a decorator:\n",
    "\n",
    "```python\n",
    "def square(x):\n",
    "   return x * x\n",
    "square = talky(square)\n",
    "```\n",
    "\n",
    "With a decorator:\n",
    "\n",
    "```python\n",
    "@talky # <-- this is called pie syntax\n",
    "def square(x):\n",
    "   return x * x\n",
    "```"
   ]
  },
  {
   "cell_type": "markdown",
   "metadata": {},
   "source": [
    "## The Solution"
   ]
  },
  {
   "cell_type": "markdown",
   "metadata": {},
   "source": [
    "`functools` is a package that allows inheritance of the original function's attributes. [These two](https://www.python-course.eu/python3_decorators.php) [tutorials](https://www.thecodeship.com/patterns/guide-to-python-function-decorators/) provide decorator examples and how `functools` can enhance our capabilities."
   ]
  },
  {
   "cell_type": "code",
   "execution_count": null,
   "metadata": {},
   "outputs": [],
   "source": [
    "import functools\n",
    "\n",
    "def talky(old_function):\n",
    "    @functools.wraps(old_function)\n",
    "    def new_function(*args, **kwargs):\n",
    "        print (\"Oh hi!\")\n",
    "        result = old_function(*args, **kwargs)\n",
    "        print (\"The result sure is {}!\".format(result))\n",
    "        return result\n",
    "    return new_function"
   ]
  },
  {
   "cell_type": "code",
   "execution_count": null,
   "metadata": {},
   "outputs": [],
   "source": [
    "@talky\n",
    "def square(x):\n",
    "    return x * x\n",
    "\n",
    "square(5)"
   ]
  },
  {
   "cell_type": "code",
   "execution_count": null,
   "metadata": {},
   "outputs": [],
   "source": [
    "def talky_with(name):\n",
    "    def talky(old_function):\n",
    "        @functools.wraps(old_function)\n",
    "        def new_function(*args, **kwargs):\n",
    "            print (\"Oh hi! I'm {}.\".format(name))\n",
    "            result = old_function(*args, **kwargs)\n",
    "            print (\"The result sure is {}!\".format(result))\n",
    "            return result\n",
    "        return new_function\n",
    "    return talky"
   ]
  },
  {
   "cell_type": "code",
   "execution_count": null,
   "metadata": {},
   "outputs": [],
   "source": [
    "@talky_with(\"Aaron\")\n",
    "def square(x):\n",
    "    return x * x\n",
    "\n",
    "square(5)"
   ]
  },
  {
   "cell_type": "markdown",
   "metadata": {},
   "source": [
    "## Example Decorators\n",
    "\n",
    "These decorators are silly, but the technique is good for re-using functionality across multiple functions. For example:\n",
    "\n",
    "* Timing decorator - If you wrapped this around a function, every time you called the function, it would tell you how long it took that function to run.\n",
    "\n",
    "* Login required decorator - If you wrapped this around a function, every time you called the function, it would require you to enter in a username and password to use the function.\n",
    "\n",
    "* Exception handling and re-trying\n",
    "\n",
    "* Input and output checking: quality control or context\n",
    "\n",
    "* And of course... setting up routes with Flask!\n",
    "\n",
    "### Resources\n",
    "\n",
    "[Code for the examples can be found here](https://realpython.com/blog/python/primer-on-python-decorators/)\n",
    "\n",
    "[Code for the basic format of a decorator can be found here](https://www.saltycrane.com/blog/2010/03/simple-python-decorator-examples/)"
   ]
  },
  {
   "cell_type": "code",
   "execution_count": null,
   "metadata": {},
   "outputs": [],
   "source": []
  }
 ],
 "metadata": {
  "language_info": {
   "codemirror_mode": {
    "name": "ipython",
    "version": 3
   },
   "file_extension": ".py",
   "mimetype": "text/x-python",
   "name": "python",
   "nbconvert_exporter": "python",
   "pygments_lexer": "ipython3",
   "version": "3.5.6"
  }
 },
 "nbformat": 4,
 "nbformat_minor": 2
}
