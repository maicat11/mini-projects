{
 "cells": [
  {
   "cell_type": "markdown",
   "metadata": {},
   "source": [
    "# Game of Life Python Example"
   ]
  },
  {
   "cell_type": "code",
   "execution_count": null,
   "metadata": {},
   "outputs": [],
   "source": [
    "import numpy as np\n",
    "from copy import deepcopy # allows us to create multiple versions of the board"
   ]
  },
  {
   "cell_type": "code",
   "execution_count": null,
   "metadata": {},
   "outputs": [],
   "source": [
    "def updateBoard(board):\n",
    "    r,c = board.shape\n",
    "    b = deepcopy(board) # capture current state of board\n",
    "    for i in range(1,r-1):\n",
    "        for j in range(1,r-1):\n",
    "            count=b[i-1][j]+b[i+1][j]+b[i][j-1]+b[i][j+1]+b[i-1][j-1]+b[i+1][j-1]+b[i-1][j+1]+b[i+1][j+1]\n",
    "            if b[i][j]: # if alive\n",
    "                if count<2 or count>3: \n",
    "                    board[i][j]=0 # death\n",
    "            else:\n",
    "                if count==3:\n",
    "                    board[i][j]=1 # life\n",
    "    return np.array_equal(board,b) # check if new \"board\" equal to old \"b\""
   ]
  },
  {
   "cell_type": "code",
   "execution_count": null,
   "metadata": {},
   "outputs": [],
   "source": [
    "def manualAdd(b):\n",
    "    b[5][4]=b[5][5]=b[5][6]=b[4][6]=b[3][5]=1"
   ]
  },
  {
   "cell_type": "code",
   "execution_count": null,
   "metadata": {},
   "outputs": [],
   "source": [
    "def printBoard(b):\n",
    "    for i in b:\n",
    "        print (''.join(['+ ' if j else '. ' for j in i])) # better viewing than 0 and 1 array"
   ]
  },
  {
   "cell_type": "code",
   "execution_count": null,
   "metadata": {},
   "outputs": [],
   "source": [
    "from IPython import display\n",
    "import time\n",
    "\n",
    "def gameoflife(r,c):\n",
    "    gof = np.zeros(shape=(r+2,c+2)) #adding padded border\n",
    "    manualAdd(gof) #populate board\n",
    "    for i in range(100):\n",
    "        printBoard(gof)\n",
    "        if updateBoard(gof): # end-state condition\n",
    "            break\n",
    "        time.sleep(1) # one second lag to see changes\n",
    "        display.clear_output(wait=True) # refresh in place"
   ]
  },
  {
   "cell_type": "code",
   "execution_count": null,
   "metadata": {},
   "outputs": [],
   "source": [
    "gameoflife(10,10)"
   ]
  },
  {
   "cell_type": "code",
   "execution_count": null,
   "metadata": {},
   "outputs": [],
   "source": []
  }
 ],
 "metadata": {
  "language_info": {
   "codemirror_mode": {
    "name": "ipython",
    "version": 3
   },
   "file_extension": ".py",
   "mimetype": "text/x-python",
   "name": "python",
   "nbconvert_exporter": "python",
   "pygments_lexer": "ipython3",
   "version": "3.5.6"
  }
 },
 "nbformat": 4,
 "nbformat_minor": 1
}
