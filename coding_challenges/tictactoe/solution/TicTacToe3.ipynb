{
 "cells": [
  {
   "cell_type": "code",
   "execution_count": null,
   "metadata": {},
   "outputs": [],
   "source": [
    "from random import randint\n",
    "import numpy as np"
   ]
  },
  {
   "cell_type": "code",
   "execution_count": null,
   "metadata": {},
   "outputs": [],
   "source": [
    "def play_random(board):\n",
    "    p = [i for i, v in enumerate(board) if v==0]\n",
    "    return p[randint(0, len(p)-1)]"
   ]
  },
  {
   "cell_type": "code",
   "execution_count": null,
   "metadata": {},
   "outputs": [],
   "source": [
    "from random import randint\n",
    "import numpy as np\n",
    "board = [0,0,0,0,0,0,0,0,0]\n",
    "lines = [[0,1,2],[3,4,5],[6,7,8],[0,3,6],[1,4,7],[2,5,8],[0,4,8],[2,4,6]]\n",
    "win = 0\n",
    "\n",
    "def checkWin(board, id):\n",
    "    for l in lines:\n",
    "        if board[l[0]]==id and board[l[1]]==id and board[l[2]]==id:\n",
    "            return 1\n",
    "    return 0\n",
    "\n",
    "def myMove(board,n,t):\n",
    "    global win\n",
    "    if checkWin(board, n):\n",
    "        ways = n\n",
    "        for k in range(8-t,1,-1):\n",
    "            ways*=k\n",
    "        if t==turn:\n",
    "            win=1\n",
    "        return ways\n",
    "    score = [0,0,0,0,0,0,0,0,0]\n",
    "    for i in range(9):\n",
    "        if board[i]==0:\n",
    "            b = board[:]\n",
    "            b[i]=-1*n\n",
    "            score[i]=myMove(b,-1*n,t+1)\n",
    "    return sum(score)"
   ]
  },
  {
   "cell_type": "code",
   "execution_count": null,
   "metadata": {},
   "outputs": [],
   "source": [
    "trainX = []\n",
    "trainy = []"
   ]
  },
  {
   "cell_type": "code",
   "execution_count": null,
   "metadata": {},
   "outputs": [],
   "source": [
    "for cc in range(100):\n",
    "    X = []\n",
    "    y = []\n",
    "    board = [0,0,0,0,0,0,0,0,0]\n",
    "    lines = [[0,1,2],[3,4,5],[6,7,8],[0,3,6],[1,4,7],[2,5,8],[0,4,8],[2,4,6]]\n",
    "    win = 0\n",
    "    order = randint(0, 1)\n",
    "    for turn in range(9):\n",
    "        if win:\n",
    "            break\n",
    "        if turn%2 == order:\n",
    "            # print np.array(board).reshape(3,3)\n",
    "            # move = int(raw_input(\"Pick your position(1 to 9): \"))\n",
    "            move = play_random(board)\n",
    "            board[move-1]=-1\n",
    "        else:\n",
    "            mscore = -10000000000\n",
    "            mid = 0\n",
    "            for i in range(9):\n",
    "                if board[i]==0:\n",
    "                    b = board[:]\n",
    "                    b[i]=1\n",
    "                    s = myMove(b,1,turn)\n",
    "                    if s>mscore:\n",
    "                        mscore=s\n",
    "                        mid=i\n",
    "            X.append(board[:])\n",
    "            y.append(mid)\n",
    "            board[mid]=1\n",
    "\n",
    "    print np.array(board).reshape(3,3)\n",
    "    if win:\n",
    "        trainX.extend(X)\n",
    "        trainy.extend(y)\n",
    "        print(\"Computer Wins\")\n",
    "    else:\n",
    "        print(\"It's a draw\")"
   ]
  },
  {
   "cell_type": "code",
   "execution_count": null,
   "metadata": {},
   "outputs": [],
   "source": [
    "from sklearn.tree import DecisionTreeClassifier\n",
    "m = DecisionTreeClassifier()"
   ]
  },
  {
   "cell_type": "code",
   "execution_count": null,
   "metadata": {},
   "outputs": [],
   "source": [
    "m.fit(trainX,trainy)"
   ]
  },
  {
   "cell_type": "code",
   "execution_count": null,
   "metadata": {},
   "outputs": [],
   "source": [
    "from random import randint\n",
    "import numpy as np\n",
    "board = [0,0,0,0,0,0,0,0,0]\n",
    "lines = [[0,1,2],[3,4,5],[6,7,8],[0,3,6],[1,4,7],[2,5,8],[0,4,8],[2,4,6]]\n",
    "endgame = 0\n",
    "win = 0\n",
    "\n",
    "def checkWin(board, id):\n",
    "    for l in lines:\n",
    "        if board[l[0]]==id and board[l[1]]==id and board[l[2]]==id:\n",
    "            return 1\n",
    "    return 0\n",
    "\n",
    "def myDTMove(board,n,t):\n",
    "    mid = m.predict([board])\n",
    "    mid = mid[0]\n",
    "    if board[mid]==0:\n",
    "        return mid\n",
    "    else:\n",
    "        print \"Resorting to random\"\n",
    "        return play_random(board)\n",
    "\n",
    "order = randint(0, 1)\n",
    "# order = 0\n",
    "for turn in range(0,9):\n",
    "    if win:\n",
    "        break\n",
    "    if turn%2 == order:\n",
    "        print np.array(board).reshape(3,3)\n",
    "        move = int(raw_input(\"Pick your position(1 to 9): \"))\n",
    "        board[move-1]=-1\n",
    "    else:\n",
    "        mid = myDTMove(board,1,turn)\n",
    "        board[mid]=1\n",
    "\n",
    "print np.array(board).reshape(3,3)\n",
    "if win:\n",
    "    print(\"Computer Wins\")\n",
    "else:\n",
    "    print(\"It's a draw\")"
   ]
  },
  {
   "cell_type": "code",
   "execution_count": null,
   "metadata": {},
   "outputs": [],
   "source": []
  }
 ],
 "metadata": {
  "language_info": {
   "codemirror_mode": {
    "name": "ipython",
    "version": 2
   },
   "file_extension": ".py",
   "mimetype": "text/x-python",
   "name": "python",
   "nbconvert_exporter": "python",
   "pygments_lexer": "ipython2",
   "version": "2.7.13"
  }
 },
 "nbformat": 4,
 "nbformat_minor": 0
}
