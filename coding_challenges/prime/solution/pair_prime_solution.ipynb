{
 "cells": [
  {
   "cell_type": "markdown",
   "metadata": {},
   "source": [
    "# Pair Problem: Prime Factors\n",
    "\n",
    "Another one from Project Euler: [Problem 3](https://projecteuler.net/problem=3):\n",
    "\n",
    "> The prime factors of 13195 are 5, 7, 13 and 29.\n",
    "\n",
    "> What is the largest prime factor of the number 600851475143 ?\n",
    "\n",
    "**Please do not Google. See how best you can solve this problem on your own.** \n",
    "\n",
    "*What's your the complexity? Can you do better?*"
   ]
  },
  {
   "cell_type": "markdown",
   "metadata": {},
   "source": [
    "# Solution:\n",
    "\n",
    "A prime number is not divisible by any number but itself. We can write a function to check if a number is prime checking to see if it is divisible by any number.\n",
    "\n",
    "Then we can loop from the given N downwards, see if any of the numbers is both a factor of N and a prime number.\n",
    "\n",
    "We go through N numbers and prime check on each would be another N steps. So the complexity of the code is **O(N^2)**. Which isn't that good. And it wouldn't work on the big test case we have."
   ]
  },
  {
   "cell_type": "code",
   "execution_count": null,
   "metadata": {},
   "outputs": [],
   "source": [
    "def isPrime(n):\n",
    "    for i in range(2,n):\n",
    "        if n%i==0:\n",
    "            return False\n",
    "    return True\n",
    "\n",
    "def largestPrimeFactor(n):\n",
    "    for i in range(n,1,-1):\n",
    "        if n%i==0:\n",
    "            if isPrime(i):\n",
    "                return i"
   ]
  },
  {
   "cell_type": "markdown",
   "metadata": {},
   "source": [
    "When we factor a number, we get two pieces. For example IxJ=N. Of I and J, atleast one of them is less than sqrt(N). Since sqrt(N) x sqrt(N) = N. We can use this fact and just go from 2 to sqrt(N) in our main function. Each time, we have two factors I and J, and we'll check to see if either of them are prime.\n",
    "\n",
    "We can also use the same logic in our isPrime function and just have the loop go from 2 to sqrt(N). BUT WAIT: notice that isPrime() actually runs on the sqrt(i), which is sqrt(sqrt(N))!\n",
    "\n",
    "So, the complexity of the code becomes sqrt(N) x sqrt(sqrt(N)) so it's N^.5 x N^.25 = **O(N^3/4)**... which is better.\n",
    "\n",
    "But can we do better-er?"
   ]
  },
  {
   "cell_type": "code",
   "execution_count": null,
   "metadata": {},
   "outputs": [],
   "source": [
    "def isPrime(n):\n",
    "    for i in range(2,int(n**0.5)+1):\n",
    "        if n%i==0:\n",
    "            return False\n",
    "    return True\n",
    "\n",
    "def largestPrimeFactor(n):\n",
    "    candidate=n\n",
    "    for i in range(2,int(n**0.5)+1):\n",
    "        if n%i==0:\n",
    "            if isPrime(n//i):\n",
    "                return n//i\n",
    "            elif isPrime(i):\n",
    "                candidate=i\n",
    "    return candidate"
   ]
  },
  {
   "cell_type": "markdown",
   "metadata": {},
   "source": [
    "> Note: the sqrt(N) iteration only works when going up from 2, not down from N. The largest prime of 33 is 11, which is more than sqrt(33). However, we catch 11 by 33//3 on the way up."
   ]
  },
  {
   "cell_type": "markdown",
   "metadata": {},
   "source": [
    "Any number can be broken down to a product of it's prime factors. For example, 100 = 2x2x5x5. So let's start with 2 and divide the number as long as it's divisible by 2. Then we move onto 3 and 4. We keep doing this until the number is not divisible anymore and just print it. In this method, there is no reason to check for primes. If a number is divisible by 4, say, we would have already divided it by 2 twice. And the final number we are left with would be the largest prime factor.\n",
    "\n",
    "We just have a single loop going to sqrt(N). So the complexity of this code is **O(sqrtN)**."
   ]
  },
  {
   "cell_type": "code",
   "execution_count": null,
   "metadata": {},
   "outputs": [],
   "source": [
    "def largestPrimeFactor(n):\n",
    "    i=2\n",
    "    while i<=n**0.5:\n",
    "        if n%i==0:\n",
    "            n = n//i\n",
    "        else:\n",
    "            i+=1\n",
    "    return n"
   ]
  },
  {
   "cell_type": "code",
   "execution_count": null,
   "metadata": {},
   "outputs": [],
   "source": [
    "%%timeit\n",
    "\n",
    "\n",
    "# check result\n",
    "largestPrimeFactor(600851475143)"
   ]
  },
  {
   "cell_type": "code",
   "execution_count": null,
   "metadata": {},
   "outputs": [],
   "source": [
    "#%%timeit\n",
    "# run timeit cell magic to check runtime of a number\n",
    "\n",
    "largestPrimeFactor(33)"
   ]
  },
  {
   "cell_type": "code",
   "execution_count": null,
   "metadata": {},
   "outputs": [],
   "source": [
    "%%timeit\n",
    "# timeit with double that number, can you infer complexity?\n",
    "\n",
    "largestPrimeFactor(326)\n",
    "\n",
    "# partially, there are other factors like complexity of this instance (vs. worst case), OS overhead, etc."
   ]
  },
  {
   "cell_type": "markdown",
   "metadata": {},
   "source": [
    "Below are some graphs to show how \"N vs N^2\" look, followed by how \"N vs sqrtN\" look. Followed by how \"sqrtN vs logN\" look.\n",
    "\n",
    "From a speed point of view, the small to large would be:\n",
    "- logN\n",
    "- sqrtN\n",
    "- N\n",
    "- N-logN\n",
    "- etc"
   ]
  },
  {
   "cell_type": "code",
   "execution_count": null,
   "metadata": {},
   "outputs": [],
   "source": [
    "import matplotlib.pyplot as plt\n",
    "%matplotlib inline\n",
    "x = range(100)\n",
    "plt.plot(x,x,x,[i**2 for i in x])\n",
    "plt.show()"
   ]
  },
  {
   "cell_type": "code",
   "execution_count": null,
   "metadata": {},
   "outputs": [],
   "source": [
    "import matplotlib.pyplot as plt\n",
    "%matplotlib inline\n",
    "x = range(100)\n",
    "plt.plot(x,x,x,[i**0.5 for i in x])\n",
    "plt.show()"
   ]
  },
  {
   "cell_type": "code",
   "execution_count": null,
   "metadata": {},
   "outputs": [],
   "source": [
    "import math\n",
    "import matplotlib.pyplot as plt\n",
    "%matplotlib inline\n",
    "x = range(1,1000)\n",
    "plt.plot(x,[math.log(i,2) for i in x],x,[i**0.5 for i in x])\n",
    "plt.show()"
   ]
  },
  {
   "cell_type": "markdown",
   "metadata": {},
   "source": [
    "### Additional Resources:\n",
    "\n",
    "- [Complexity of Python Operations](https://www.ics.uci.edu/~brgallar/week8_2.html)\n",
    "- [A beginner's guide to Big O notation](https://rob-bell.net/2009/06/a-beginners-guide-to-big-o-notation/)"
   ]
  }
 ],
 "metadata": {
  "language_info": {
   "codemirror_mode": {
    "name": "ipython",
    "version": 3
   },
   "file_extension": ".py",
   "mimetype": "text/x-python",
   "name": "python",
   "nbconvert_exporter": "python",
   "pygments_lexer": "ipython3",
   "version": "3.5.4"
  }
 },
 "nbformat": 4,
 "nbformat_minor": 1
}
