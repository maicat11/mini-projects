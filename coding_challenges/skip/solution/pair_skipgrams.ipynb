{
 "cells": [
  {
   "cell_type": "code",
   "execution_count": null,
   "metadata": {},
   "outputs": [],
   "source": [
    "# Imports\n",
    "import numpy as np\n",
    "from sklearn.datasets import fetch_20newsgroups\n",
    "from sklearn.feature_extraction.text import CountVectorizer\n",
    "from sklearn.neural_network import MLPClassifier\n",
    "import pandas as pd"
   ]
  },
  {
   "cell_type": "code",
   "execution_count": null,
   "metadata": {},
   "outputs": [],
   "source": [
    "# Set Network Parameters\n",
    "window_size = 2\n",
    "dim = 100"
   ]
  },
  {
   "cell_type": "code",
   "execution_count": null,
   "metadata": {},
   "outputs": [],
   "source": [
    "# Retrieve Data\n",
    "ng = fetch_20newsgroups().data[0:50]"
   ]
  },
  {
   "cell_type": "code",
   "execution_count": null,
   "metadata": {},
   "outputs": [],
   "source": [
    "# Establish Integer indices for each unique term\n",
    "cv = CountVectorizer()\n",
    "ng_vecs = cv.fit_transform(ng)\n",
    "# Store those indices here\n",
    "vocab = cv.vocabulary_\n",
    "# And the reverse mapping\n",
    "id2word = {v:k for (k,v) in vocab.items()}\n",
    "# The total unique words, aka size of vocabulary\n",
    "V = len(vocab)"
   ]
  },
  {
   "cell_type": "code",
   "execution_count": null,
   "metadata": {},
   "outputs": [],
   "source": [
    "# Use CountVectorizer to turn our list of documents into a Series of lists of terms\n",
    "tokenizer = cv.build_tokenizer()\n",
    "tokenized_docs = pd.Series(ng).map(tokenizer).map(lambda x: [a.lower() for a in x])"
   ]
  },
  {
   "cell_type": "code",
   "execution_count": null,
   "metadata": {},
   "outputs": [],
   "source": [
    "ng[0]"
   ]
  },
  {
   "cell_type": "code",
   "execution_count": null,
   "metadata": {},
   "outputs": [],
   "source": [
    "tokenized_docs[0][0:10]"
   ]
  },
  {
   "cell_type": "code",
   "execution_count": null,
   "metadata": {},
   "outputs": [],
   "source": [
    "X.shape"
   ]
  },
  {
   "cell_type": "code",
   "execution_count": null,
   "metadata": {},
   "outputs": [],
   "source": [
    "# Generate the X data matrix and y vector for MLP\n",
    "# X: A matrix of one-hot encoded vectors (dimension V) for each center word over all context windows (size 2+2+1=5)\n",
    "# y: A matrix over all context windows where the outputs are the 4 \"labels\", aka the indices of the 4 \"other\" context words\n",
    "X = []\n",
    "y = []\n",
    "# Step thru tokenized document list\n",
    "for doc in tokenized_docs:\n",
    "    # For each document, step thru the words\n",
    "    for index, word in enumerate(doc): \n",
    "        # Skip if at the edge of a document (can handle differently)\n",
    "        if index < 2 or index > (len(doc)-3):\n",
    "            continue\n",
    "        # Retrieve the one-hot V-dimensional input vector and add it to X\n",
    "        one_hot_input = [0]*V \n",
    "        one_hot_input[vocab[word]] = 1\n",
    "        # HACK: Had to do the window cooccurrences separately as MLP won't support multilabel tho it says it does\n",
    "        X.append(one_hot_input)\n",
    "        X.append(one_hot_input)\n",
    "        X.append(one_hot_input)\n",
    "        X.append(one_hot_input)\n",
    "        # Retrieve the 4 outputs for the context window and add them to y\n",
    "        # Same HACK here\n",
    "        context1 = doc[index-2]\n",
    "        y.append(vocab[context1])\n",
    "        context2 = doc[index-1]\n",
    "        y.append(vocab[context2])\n",
    "        context3 = doc[index+1]\n",
    "        y.append(vocab[context3])\n",
    "        context4 = doc[index+2]\n",
    "        y.append(vocab[context4])"
   ]
  },
  {
   "cell_type": "code",
   "execution_count": null,
   "metadata": {},
   "outputs": [],
   "source": [
    "# Convert to Numpy arrays\n",
    "X = np.array(X)\n",
    "y = np.array(y)"
   ]
  },
  {
   "cell_type": "code",
   "execution_count": null,
   "metadata": {},
   "outputs": [],
   "source": [
    "# Fit the MLP Classifier\n",
    "mlp = MLPClassifier(hidden_layer_sizes=(dim,))\n",
    "mlp.fit(X, y)"
   ]
  },
  {
   "cell_type": "code",
   "execution_count": null,
   "metadata": {},
   "outputs": [],
   "source": [
    "# Here are the word vectors!!\n",
    "word_vecs = mlp.coefs_[0]\n",
    "word_vecs"
   ]
  },
  {
   "cell_type": "code",
   "execution_count": null,
   "metadata": {},
   "outputs": [],
   "source": [
    "# Look at the closest words to a query using a K-Nearest Neighbors search with cosine\n",
    "from sklearn.neighbors import NearestNeighbors\n",
    "nn = NearestNeighbors(metric='cosine', algorithm='brute')\n",
    "nn.fit(word_vecs)"
   ]
  },
  {
   "cell_type": "code",
   "execution_count": null,
   "metadata": {},
   "outputs": [],
   "source": [
    "# Look at the closest words to a query using a K-Nearest Neighbors search with cosine\n",
    "def get_similar(query, n=10):\n",
    "    query_index = vocab[query]\n",
    "    if query_index:\n",
    "        dist, index = nn.kneighbors(word_vecs[query_index, :], n_neighbors=n)\n",
    "        return ([(id2word[i[0]], d[0]) for (d, i) in zip(dist.transpose(), index.transpose())])\n",
    "    else:\n",
    "        return \"Query not in the dataset!\""
   ]
  },
  {
   "cell_type": "code",
   "execution_count": null,
   "metadata": {},
   "outputs": [],
   "source": [
    "# Try it out!\n",
    "get_similar(\"bat\", 20)"
   ]
  },
  {
   "cell_type": "code",
   "execution_count": null,
   "metadata": {},
   "outputs": [],
   "source": []
  }
 ],
 "metadata": {
  "language_info": {
   "codemirror_mode": {
    "name": "ipython",
    "version": 2
   },
   "file_extension": ".py",
   "mimetype": "text/x-python",
   "name": "python",
   "nbconvert_exporter": "python",
   "pygments_lexer": "ipython2",
   "version": "2.7.12"
  }
 },
 "nbformat": 4,
 "nbformat_minor": 1
}
