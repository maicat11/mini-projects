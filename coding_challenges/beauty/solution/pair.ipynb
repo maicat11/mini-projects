{
 "cells": [
  {
   "cell_type": "markdown",
   "metadata": {},
   "source": [
    "To get the maximum score, we need to assign 26 to the most frequent letter, 25 to the next, etc. So what we want is the frequency count per letter. Then we can sort and assign values.\n",
    "\n",
    "First we clean the text: convert to lower case and remove everything but alphabets.\n",
    "\n",
    "Then we put the characters into a dictonary, to do the counts. We retrive the values into a list and sort it."
   ]
  },
  {
   "cell_type": "code",
   "execution_count": null,
   "metadata": {},
   "outputs": [],
   "source": [
    "# Python 2 & 3 Compatibility\n",
    "from __future__ import print_function, division\n",
    "\n",
    "from collections import defaultdict\n",
    "import re\n",
    "from collections import Counter\n",
    "\n",
    "def getScore(text):\n",
    "    text = text.lower()\n",
    "    text = re.sub(\"[^a-z]\", \"\", text)\n",
    "    d = defaultdict(int)\n",
    "    for c in text:\n",
    "        d[c]+=1\n",
    "    counts = sorted([v for k,v in d.items()],reverse=True)\n",
    "    return sum([(26-i)*counts[i] for i in range(len(counts))])"
   ]
  },
  {
   "cell_type": "code",
   "execution_count": null,
   "metadata": {},
   "outputs": [],
   "source": [
    "print(getScore('Good luck in the Facebook Hacker Cup this year!'))\n",
    "print(getScore('Ignore punctuation, please :)'))"
   ]
  },
  {
   "cell_type": "markdown",
   "metadata": {},
   "source": [
    "Instead of dealing with indices and doing (26-i), which isn't that clear, we could built a score list going backwards from 26 to 1 and zip it with the sorted frequency list. Makes for a more readable code."
   ]
  },
  {
   "cell_type": "code",
   "execution_count": null,
   "metadata": {},
   "outputs": [],
   "source": [
    "def getScore(text):\n",
    "    text = text.lower()\n",
    "    text = re.sub(\"[^a-z]\", \"\", text)\n",
    "    d = defaultdict(int)\n",
    "    for c in text:\n",
    "        d[c]+=1\n",
    "    counts = sorted([v for k,v in d.items()],reverse=True)\n",
    "    scores = range(26,0,-1)\n",
    "    return sum([i*j for i,j in zip(counts,scores)])"
   ]
  },
  {
   "cell_type": "code",
   "execution_count": null,
   "metadata": {},
   "outputs": [],
   "source": [
    "print(getScore('Good luck in the Facebook Hacker Cup this year!'))\n",
    "print(getScore('Ignore punctuation, please :)'))"
   ]
  },
  {
   "cell_type": "markdown",
   "metadata": {},
   "source": [
    "Python also has a nifty Counter that would do the dictionary building for us. And it comes with a most_common() function that will gives is the sorted frequency list that we want."
   ]
  },
  {
   "cell_type": "code",
   "execution_count": null,
   "metadata": {},
   "outputs": [],
   "source": [
    "def getScore(text):\n",
    "    text = text.lower()\n",
    "    text = re.sub(\"[^a-z]\", \"\", text)\n",
    "    counts = Counter(text).most_common()\n",
    "    return sum([(26-i)*counts[i][1] for i in range(len(counts))])"
   ]
  },
  {
   "cell_type": "code",
   "execution_count": null,
   "metadata": {},
   "outputs": [],
   "source": [
    "print(getScore('Good luck in the Facebook Hacker Cup this year!'))\n",
    "print(getScore('Ignore punctuation, please :)'))"
   ]
  }
 ],
 "metadata": {
  "language_info": {
   "codemirror_mode": {
    "name": "ipython",
    "version": 3
   },
   "file_extension": ".py",
   "mimetype": "text/x-python",
   "name": "python",
   "nbconvert_exporter": "python",
   "pygments_lexer": "ipython3",
   "version": "3.5.2"
  }
 },
 "nbformat": 4,
 "nbformat_minor": 0
}
