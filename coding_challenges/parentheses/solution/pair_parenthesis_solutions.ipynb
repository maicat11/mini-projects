{
 "cells": [
  {
   "cell_type": "markdown",
   "metadata": {},
   "source": [
    "#### Iterative Solution\n",
    "\n",
    "We just need to loop through the text with a counter. Everytime we encounter an open bracket, increase the counter by 1 and for every close bracket, we decrease the counter by 1. If the counter is 0 when we are done, then the brackets are matched. We also have to make sure that the counter never goes under 0.\n",
    "\n",
    "This is an efficient solution. And the complexity of the code is O(N)."
   ]
  },
  {
   "cell_type": "code",
   "execution_count": null,
   "metadata": {},
   "outputs": [],
   "source": [
    "def checkBrackets(text):\n",
    "    s = 0\n",
    "    for c in text:\n",
    "        if c=='(':\n",
    "            s+=1\n",
    "        elif c==')':\n",
    "            s-=1\n",
    "            if s<0:\n",
    "                break\n",
    "    return not s\n",
    "        "
   ]
  },
  {
   "cell_type": "code",
   "execution_count": null,
   "metadata": {},
   "outputs": [],
   "source": [
    "print checkBrackets('(()()()())') # should return True\n",
    "print checkBrackets('(((())))') # should return True\n",
    "print checkBrackets('(()((())()))') # should return True\n",
    "print checkBrackets('((((((()) ') # should return False\n",
    "print checkBrackets('()))') # should return False\n",
    "print checkBrackets('(()()))(()') # should return False"
   ]
  },
  {
   "cell_type": "markdown",
   "metadata": {},
   "source": [
    "#### Recursive solution\n",
    "\n",
    "Another approach is to say, for the deepest bracket, the open and close bracket will occur next to each other. So we can remove that first and then do it again and again till we are done.\n",
    "\n",
    "This is called recursion. Instead of solving a problem fully, you reduce it to a smaller version of itself.\n",
    "\n",
    "For this one, we need to remove any text that is present inside the brackets. We just use a regular expression to do that.\n",
    "\n",
    "This implementation isn't too efficient. Everytime we search for a () it will cost us in the order of N. And we have to do it again and again to remove all sets of (). So the overall complexity is O(N^2).\n",
    "\n",
    "So it is silly to use this approach for this problem. But there are problem where an iterative solution is not available. And recursion is powerful idea. This is just a simple example to introduce it."
   ]
  },
  {
   "cell_type": "code",
   "execution_count": null,
   "metadata": {},
   "outputs": [],
   "source": [
    "import re\n",
    "def checkBrackets(text):\n",
    "    text = re.sub('[^()]','',text)\n",
    "    while '()' in text:\n",
    "        text = text.replace('()','')\n",
    "    return not text"
   ]
  },
  {
   "cell_type": "code",
   "execution_count": null,
   "metadata": {},
   "outputs": [],
   "source": [
    "print checkBrackets('(()()()())') # should return True\n",
    "print checkBrackets('(((())))') # should return True\n",
    "print checkBrackets('(()((())()))') # should return True\n",
    "print checkBrackets('((((((()) ') # should return False\n",
    "print checkBrackets('()))') # should return False\n",
    "print checkBrackets('(()()))(()') # should return False"
   ]
  },
  {
   "cell_type": "markdown",
   "metadata": {},
   "source": [
    "#### Recursion\n",
    "\n",
    "Recursive solution is typically done using recursion. Which is a function calling itself. Below is how you would do it."
   ]
  },
  {
   "cell_type": "code",
   "execution_count": null,
   "metadata": {},
   "outputs": [],
   "source": [
    "def checkBrackets(text):\n",
    "    if '()' in text:\n",
    "        return checkBrackets(text.replace('()',''))\n",
    "    else:\n",
    "        return not text"
   ]
  },
  {
   "cell_type": "code",
   "execution_count": null,
   "metadata": {},
   "outputs": [],
   "source": [
    "print checkBrackets('(()()()())') # should return True\n",
    "print checkBrackets('(((())))') # should return True\n",
    "print checkBrackets('(()((())()))') # should return True\n",
    "print checkBrackets('((((((()) ') # should return False\n",
    "print checkBrackets('()))') # should return False\n",
    "print checkBrackets('(()()))(()') # should return False"
   ]
  }
 ],
 "metadata": {
  "language_info": {
   "codemirror_mode": {
    "name": "ipython",
    "version": 2
   },
   "file_extension": ".py",
   "mimetype": "text/x-python",
   "name": "python",
   "nbconvert_exporter": "python",
   "pygments_lexer": "ipython2",
   "version": "2.7.11"
  }
 },
 "nbformat": 4,
 "nbformat_minor": 0
}
