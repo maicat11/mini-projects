{
 "cells": [
  {
   "cell_type": "markdown",
   "metadata": {},
   "source": [
    "To solve this problem, we can do two things. One: combine all positive reviews and say how many times did a word appear over the total number of words in that corpus. **Or: For each word, we can say in how many positive reviews did it appear over the total number of positive reviews.** Both give a good (albeit different) measure of probability that we can use. This solution takes the latter approach."
   ]
  },
  {
   "cell_type": "code",
   "execution_count": null,
   "metadata": {},
   "outputs": [],
   "source": [
    "import glob\n",
    "import os\n",
    "from collections import defaultdict\n",
    "import re\n",
    "import numpy as np"
   ]
  },
  {
   "cell_type": "markdown",
   "metadata": {},
   "source": [
    "**Given a filename, this function remove non-alpabets and return a list of words in the file:**"
   ]
  },
  {
   "cell_type": "code",
   "execution_count": null,
   "metadata": {},
   "outputs": [],
   "source": [
    "def processFile(filename):\n",
    "    f = open(filename, 'r')\n",
    "    content = f.read()\n",
    "    content = re.sub('[^A-z \\n]','',content)\n",
    "    return content.split()"
   ]
  },
  {
   "cell_type": "markdown",
   "metadata": {},
   "source": [
    "**This function loops through the files in our training set and updates a dictionary of counts:**"
   ]
  },
  {
   "cell_type": "code",
   "execution_count": null,
   "metadata": {},
   "outputs": [],
   "source": [
    "def readReview(path,dic):\n",
    "    for filename in glob.glob(os.path.join(path, '*.txt')):\n",
    "        content=processFile(filename)\n",
    "        for w in set(content):\n",
    "            dic[w]+=1"
   ]
  },
  {
   "cell_type": "markdown",
   "metadata": {},
   "source": [
    "**We just call the above function and build a positive and negative dictionaries:**"
   ]
  },
  {
   "cell_type": "code",
   "execution_count": null,
   "metadata": {},
   "outputs": [],
   "source": [
    "path1 = '/Users/jb/Desktop/review_polarity/txt_sentoken/pos'\n",
    "path2 = '/Users/jb/Desktop/review_polarity/txt_sentoken/neg'\n",
    "posdict = defaultdict(int)\n",
    "negdict = defaultdict(int)\n",
    "readReview(path1,posdict)\n",
    "readReview(path2,negdict)"
   ]
  },
  {
   "cell_type": "markdown",
   "metadata": {},
   "source": [
    "**The next step is important. For each word in positive dictionary but not in the negative one, we set it's value in the negative dictionary to a low threshold (and vice versa):**"
   ]
  },
  {
   "cell_type": "code",
   "execution_count": null,
   "metadata": {},
   "outputs": [],
   "source": [
    "for k,v in posdict.items():\n",
    "    if not negdict[k]:\n",
    "        negdict[k]=0.2\n",
    "for k,v in negdict.items():\n",
    "    if not posdict[k]:\n",
    "        posdict[k]=0.2"
   ]
  },
  {
   "cell_type": "markdown",
   "metadata": {},
   "source": [
    "**Next we change the count into probability and take the log of that:**"
   ]
  },
  {
   "cell_type": "code",
   "execution_count": null,
   "metadata": {},
   "outputs": [],
   "source": [
    "for k,v in posdict.items():\n",
    "    posdict[k]=np.log(v/1000.0)\n",
    "for k,v in negdict.items():\n",
    "    negdict[k]=np.log(v/1000.0)"
   ]
  },
  {
   "cell_type": "markdown",
   "metadata": {},
   "source": [
    "**Now, given a test review, we will go through the words in that review and add up the positive probabilities to a postive score and negative probabilities to a negative score.**"
   ]
  },
  {
   "cell_type": "code",
   "execution_count": null,
   "metadata": {},
   "outputs": [],
   "source": [
    "def predictionPercentage(path,posdict,negdict,isPositive=True):\n",
    "    poscount = 0\n",
    "    for filename in glob.glob(os.path.join(path, '*.txt')):\n",
    "        content=processFile(filename)\n",
    "        posscore = 0\n",
    "        negscore = 0\n",
    "        for w in set(content):\n",
    "            posscore+=posdict[w]\n",
    "            negscore+=negdict[w]\n",
    "        if (posscore>0.97*negscore):\n",
    "            poscount+=1\n",
    "    if isPositive:\n",
    "        return 100*poscount/len(glob.glob(os.path.join(path, '*.txt')))\n",
    "    else:\n",
    "        return 100-100*poscount/len(glob.glob(os.path.join(path, '*.txt')))"
   ]
  },
  {
   "cell_type": "markdown",
   "metadata": {},
   "source": [
    "> Create a test set from original, and mix reviews if desired"
   ]
  },
  {
   "cell_type": "code",
   "execution_count": null,
   "metadata": {},
   "outputs": [],
   "source": [
    "path1test = '/Users/jb/Desktop/review_polarity/txt_sentoken/pos/test'\n",
    "print (predictionPercentage(path1test,posdict,negdict))\n",
    "path2test = '/Users/jb/Desktop/review_polarity/txt_sentoken/neg/test'\n",
    "print (predictionPercentage(path2test,posdict,negdict, 0))"
   ]
  },
  {
   "cell_type": "markdown",
   "metadata": {},
   "source": [
    "**Typically, if positive_score>negative_score, we call the review positive. But the cutoff threshold can be varied if wanted to. In the above case, the prediction percentages for the two classes were too different (97 and 45). So I changed the threshold:\n",
    "posscore>0.97*negscore**\n",
    "\n",
    "**I found the 0.97 by searching over a few different values.**"
   ]
  },
  {
   "cell_type": "markdown",
   "metadata": {},
   "source": [
    "**80% is a really good for a model that can be built from scratch in less than an hour. Naive Bayes ingores any interaction between the features. The are many ways to introduce a bit of interaction. For image data, we could do pooling. For text data, we will do n-grams. Below I include 2-grams to the feature set. 2-gram is just pairs of adjacent words.**\n",
    "\n",
    "**\"how are you\" as a bag of words is ['how','are','you']**\n",
    "\n",
    "**\"how are you\" as 2-grams is ['how are','are you']**\n",
    "\n",
    "**Everything else remains the same. If you scroll down, you'll see that we have improved accuracy to about 85%**"
   ]
  },
  {
   "cell_type": "code",
   "execution_count": null,
   "metadata": {},
   "outputs": [],
   "source": [
    "def readReview(path,dic):\n",
    "    for filename in glob.glob(os.path.join(path, '*.txt')):\n",
    "        content=processFile(filename)\n",
    "        for w in set(content):\n",
    "            dic[w]+=1\n",
    "        twogram = [content[i]+' '+content[i+1] for i in range(len(content)-1)]\n",
    "        for w in set(twogram):\n",
    "            dic[w]+=1"
   ]
  },
  {
   "cell_type": "code",
   "execution_count": null,
   "metadata": {},
   "outputs": [],
   "source": [
    "def predictionPercentage(path,posdict,negdict,isPositive=True):\n",
    "    poscount = 0\n",
    "    for filename in glob.glob(os.path.join(path, '*.txt')):\n",
    "        content=processFile(filename)\n",
    "        posscore = 0\n",
    "        negscore = 0\n",
    "        for w in set(content):\n",
    "            posscore+=posdict[w]\n",
    "            negscore+=negdict[w]\n",
    "        twogram = [content[i]+' '+content[i+1] for i in range(len(content)-1)]\n",
    "        for w in set(twogram):\n",
    "            posscore+=posdict[w]\n",
    "            negscore+=negdict[w]\n",
    "        if (posscore>0.975*negscore):\n",
    "            poscount+=1\n",
    "    if isPositive:\n",
    "        return 100*poscount/len(glob.glob(os.path.join(path, '*.txt')))\n",
    "    else:\n",
    "        return 100-100*poscount/len(glob.glob(os.path.join(path, '*.txt')))"
   ]
  },
  {
   "cell_type": "code",
   "execution_count": null,
   "metadata": {},
   "outputs": [],
   "source": [
    "posdict = defaultdict(int)\n",
    "negdict = defaultdict(int)\n",
    "readReview(path1,posdict)\n",
    "readReview(path2,negdict)"
   ]
  },
  {
   "cell_type": "code",
   "execution_count": null,
   "metadata": {},
   "outputs": [],
   "source": [
    "for k,v in posdict.items():\n",
    "    if not negdict[k]:\n",
    "        negdict[k]=0.2\n",
    "for k,v in negdict.items():\n",
    "    if not posdict[k]:\n",
    "        posdict[k]=0.2"
   ]
  },
  {
   "cell_type": "code",
   "execution_count": null,
   "metadata": {},
   "outputs": [],
   "source": [
    "for k,v in posdict.items():\n",
    "    posdict[k]=np.log(v/900.0)\n",
    "for k,v in negdict.items():\n",
    "    negdict[k]=np.log(v/900.0)"
   ]
  },
  {
   "cell_type": "code",
   "execution_count": null,
   "metadata": {},
   "outputs": [],
   "source": [
    "print (predictionPercentage(path1test,posdict,negdict))\n",
    "print (predictionPercentage(path2test,posdict,negdict,0))"
   ]
  }
 ],
 "metadata": {
  "language_info": {
   "codemirror_mode": {
    "name": "ipython",
    "version": 3
   },
   "file_extension": ".py",
   "mimetype": "text/x-python",
   "name": "python",
   "nbconvert_exporter": "python",
   "pygments_lexer": "ipython3",
   "version": "3.5.6"
  }
 },
 "nbformat": 4,
 "nbformat_minor": 1
}
