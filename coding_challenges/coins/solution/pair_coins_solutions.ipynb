{
 "cells": [
  {
   "cell_type": "markdown",
   "metadata": {},
   "source": [
    "# Solutions to the Coins problem"
   ]
  },
  {
   "cell_type": "markdown",
   "metadata": {},
   "source": [
    "### If we knew the number of coin types in the array, we can do multiple for loops:"
   ]
  },
  {
   "cell_type": "code",
   "execution_count": null,
   "metadata": {},
   "outputs": [],
   "source": [
    "def ways1(cents, coins=[25, 10, 5, 1]):\n",
    "    sum=0\n",
    "    for i in range(cents//coins[0]+1):\n",
    "        for j in range((cents-i*coins[0])//coins[1]+1):\n",
    "            for k in range((cents-i*coins[0]-j*coins[1])//coins[2]+1):\n",
    "                if (cents-i*coins[0]-j*coins[1]-k*coins[2])%coins[3]==0:\n",
    "                    sum+=1\n",
    "    return sum"
   ]
  },
  {
   "cell_type": "code",
   "execution_count": null,
   "metadata": {},
   "outputs": [],
   "source": [
    "ways1(100)"
   ]
  },
  {
   "cell_type": "markdown",
   "metadata": {},
   "source": [
    "### If we don't know the number of coin types in the array, then recursion might be an option:"
   ]
  },
  {
   "cell_type": "code",
   "execution_count": null,
   "metadata": {},
   "outputs": [],
   "source": [
    "def ways2(cents, coins=[25, 10, 5, 1]):\n",
    "    sum=0\n",
    "    if len(coins)==1:\n",
    "        if cents%coins[0]==0:\n",
    "            return 1\n",
    "        else:\n",
    "            return 0\n",
    "    for i in range(cents//coins[0]+1):\n",
    "        sum+=ways2(cents-i*coins[0],coins[1:])\n",
    "    return sum"
   ]
  },
  {
   "cell_type": "code",
   "execution_count": null,
   "metadata": {},
   "outputs": [],
   "source": [
    "ways2(100)"
   ]
  },
  {
   "cell_type": "markdown",
   "metadata": {},
   "source": [
    "### Another way of doing recursion:"
   ]
  },
  {
   "cell_type": "code",
   "execution_count": null,
   "metadata": {},
   "outputs": [],
   "source": [
    "def ways3(cents, coins=[25, 10, 5, 1]):\n",
    "    if cents < 0 or not coins:\n",
    "        return 0\n",
    "    if cents == 0:\n",
    "        return 1\n",
    "    return ways3(cents - coins[0], coins) + ways3(cents, coins[1:])"
   ]
  },
  {
   "cell_type": "code",
   "execution_count": null,
   "metadata": {},
   "outputs": [],
   "source": [
    "ways3(100)"
   ]
  },
  {
   "cell_type": "markdown",
   "metadata": {},
   "source": [
    "### But recursion is often not optimal (when a function calls itself more than once) and become exponential in complexity (try an input of 1000 in the above function). You can do memoization by just stored previous values in a dictionary. Just convert all your inputs into a tuple and use that as a key to the dictionary:"
   ]
  },
  {
   "cell_type": "code",
   "execution_count": null,
   "metadata": {},
   "outputs": [],
   "source": [
    "from collections import defaultdict\n",
    "d = defaultdict(int)\n",
    "def ways4(cents, coins=[25, 10, 5, 1]):\n",
    "    if d[tuple([cents] + coins)]:\n",
    "        return d[tuple([cents] + coins)]\n",
    "    if cents < 0 or not coins:\n",
    "        return 0\n",
    "    if cents == 0:\n",
    "        return 1\n",
    "    d[tuple([cents] + coins)] = ways4(cents - coins[0], coins) + ways4(cents, coins[1:])\n",
    "    return d[tuple([cents] + coins)]"
   ]
  },
  {
   "cell_type": "code",
   "execution_count": null,
   "metadata": {},
   "outputs": [],
   "source": [
    "ways4(100)"
   ]
  },
  {
   "cell_type": "code",
   "execution_count": null,
   "metadata": {},
   "outputs": [],
   "source": [
    "ways4(1000)"
   ]
  },
  {
   "cell_type": "markdown",
   "metadata": {},
   "source": [
    "### Instead of memoization, you can also go the dynamic programming route. For this problem, that's solution is not too intuitive. But here is a version (written by Thomas and Dan, NYC Winter 2016 cohort)."
   ]
  },
  {
   "cell_type": "code",
   "execution_count": null,
   "metadata": {},
   "outputs": [],
   "source": [
    "def ways5(cents, coins=[1, 5, 10, 25]):\n",
    "    \"\"\"Return the number of ways to make change\"\"\"\n",
    "    nb_combinations = [1]+[0]*cents\n",
    "    for coin in coins:\n",
    "        for sub_case in range(coin, cents+1):\n",
    "            nb_combinations[sub_case] += nb_combinations[sub_case-coin]         \n",
    "    return nb_combinations[cents]"
   ]
  },
  {
   "cell_type": "code",
   "execution_count": null,
   "metadata": {},
   "outputs": [],
   "source": [
    "ways5(100)"
   ]
  },
  {
   "cell_type": "code",
   "execution_count": null,
   "metadata": {},
   "outputs": [],
   "source": [
    "ways5(1000)"
   ]
  },
  {
   "cell_type": "code",
   "execution_count": null,
   "metadata": {},
   "outputs": [],
   "source": []
  }
 ],
 "metadata": {
  "language_info": {
   "codemirror_mode": {
    "name": "ipython",
    "version": 3
   },
   "file_extension": ".py",
   "mimetype": "text/x-python",
   "name": "python",
   "nbconvert_exporter": "python",
   "pygments_lexer": "ipython3",
   "version": "3.5.4"
  }
 },
 "nbformat": 4,
 "nbformat_minor": 1
}
