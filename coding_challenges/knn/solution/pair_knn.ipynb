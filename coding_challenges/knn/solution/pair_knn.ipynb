{
 "cells": [
  {
   "cell_type": "code",
   "execution_count": null,
   "metadata": {},
   "outputs": [],
   "source": [
    "X_train = [[10,   10,  10],\n",
    "           [0,   0,  0],\n",
    "           [-1, -1, -1],\n",
    "           [1, 1, 1]]\n",
    "\n",
    "y_train = ['chartreuse',\n",
    "           'white',\n",
    "           'blue',\n",
    "           'red']\n",
    "\n",
    "X_test = [[1.1, 1.1, 1.1]]\n",
    "\n",
    "def distance(A, B):\n",
    "    squares = [(a - b) ** 2 for a, b in zip(A, B)]\n",
    "    return sum(squares) ** 0.5"
   ]
  },
  {
   "cell_type": "markdown",
   "metadata": {},
   "source": [
    "**Lambda implementation of the oneNN:**"
   ]
  },
  {
   "cell_type": "code",
   "execution_count": null,
   "metadata": {},
   "outputs": [],
   "source": [
    "def oneNN(X_train, y_train, X_test):\n",
    "    for test in X_test:\n",
    "        index, point = min(enumerate(X_train),\n",
    "                           key=lambda (index, point): distance(test, point))\n",
    "        yield y_train[index]"
   ]
  },
  {
   "cell_type": "code",
   "execution_count": null,
   "metadata": {},
   "outputs": [],
   "source": [
    "for result in oneNN(X_train, y_train, X_test):\n",
    "    print result"
   ]
  },
  {
   "cell_type": "markdown",
   "metadata": {},
   "source": [
    "**Same thing as above using list comprehension (I prefer this, it's more readable to me):**"
   ]
  },
  {
   "cell_type": "code",
   "execution_count": null,
   "metadata": {},
   "outputs": [],
   "source": [
    "def oneNN(X_train, y_train, X_test):\n",
    "    result = []\n",
    "    for test in X_test:\n",
    "        point,index = min([(distance(test,p),i) for i,p in enumerate(X_train)])\n",
    "        result.append(y_train[index])\n",
    "    return result"
   ]
  },
  {
   "cell_type": "code",
   "execution_count": null,
   "metadata": {},
   "outputs": [],
   "source": [
    "for result in oneNN(X_train, y_train, X_test):\n",
    "    print result"
   ]
  },
  {
   "cell_type": "markdown",
   "metadata": {},
   "source": [
    "**Expand to KNN. Just a matter of getting closest N elements and choosing the most common class from that.**"
   ]
  },
  {
   "cell_type": "code",
   "execution_count": null,
   "metadata": {},
   "outputs": [],
   "source": [
    "from collections import Counter\n",
    "def KNN(X_train, y_train, X_test,k=1):\n",
    "    result = []\n",
    "    for test in X_test:\n",
    "        s = sorted([(distance(test,p),i) for i,p in enumerate(X_train)])[:k]\n",
    "        c = Counter([y_train[i] for j,i in s]).most_common()\n",
    "        result.append(c[0][0])\n",
    "    return result"
   ]
  },
  {
   "cell_type": "code",
   "execution_count": null,
   "metadata": {},
   "outputs": [],
   "source": [
    "for result in KNN(X_train, y_train, X_test):\n",
    "    print result"
   ]
  }
 ],
 "metadata": {
  "language_info": {
   "codemirror_mode": {
    "name": "ipython",
    "version": 2
   },
   "file_extension": ".py",
   "mimetype": "text/x-python",
   "name": "python",
   "nbconvert_exporter": "python",
   "pygments_lexer": "ipython2",
   "version": "2.7.11"
  }
 },
 "nbformat": 4,
 "nbformat_minor": 0
}
